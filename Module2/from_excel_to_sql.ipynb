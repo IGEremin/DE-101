{
 "cells": [
  {
   "cell_type": "code",
   "execution_count": 1,
   "id": "501a1f5d",
   "metadata": {},
   "outputs": [],
   "source": [
    "import time\n",
    "import pandas as pd\n",
    "import psycopg2 as pg2\n",
    "import psycopg2.extras as extras"
   ]
  },
  {
   "cell_type": "markdown",
   "id": "74aeccb4-8931-46d7-9c48-571f18000d5d",
   "metadata": {},
   "source": [
    "# Load and explore Excel table"
   ]
  },
  {
   "cell_type": "code",
   "execution_count": 2,
   "id": "a5566791",
   "metadata": {},
   "outputs": [
    {
     "name": "stderr",
     "output_type": "stream",
     "text": [
      "C:\\Users\\space\\AppData\\Local\\Programs\\Python\\Python311\\Lib\\site-packages\\openpyxl\\worksheet\\header_footer.py:48: UserWarning: Cannot parse header or footer so it will be ignored\n",
      "  warn(\"\"\"Cannot parse header or footer so it will be ignored\"\"\")\n"
     ]
    }
   ],
   "source": [
    "data = pd.read_excel(\n",
    "    'Sample - Superstore.xlsx', \n",
    "    parse_dates=['Order Date', 'Ship Date'], \n",
    "    dtype={'Postal Code': str}\n",
    ")\n",
    "data.columns = [col.lower().replace(' ', '_').replace('-', '_') for col in data.columns]"
   ]
  },
  {
   "cell_type": "code",
   "execution_count": 3,
   "id": "8f47d6f1",
   "metadata": {},
   "outputs": [
    {
     "name": "stdout",
     "output_type": "stream",
     "text": [
      "<class 'pandas.core.frame.DataFrame'>\n",
      "RangeIndex: 9994 entries, 0 to 9993\n",
      "Data columns (total 23 columns):\n",
      " #   Column         Non-Null Count  Dtype         \n",
      "---  ------         --------------  -----         \n",
      " 0   row_id         9994 non-null   int64         \n",
      " 1   order_id       9994 non-null   object        \n",
      " 2   order_date     9994 non-null   datetime64[ns]\n",
      " 3   ship_date      9994 non-null   datetime64[ns]\n",
      " 4   ship_mode      9994 non-null   object        \n",
      " 5   customer_id    9994 non-null   object        \n",
      " 6   customer_name  9994 non-null   object        \n",
      " 7   segment        9994 non-null   object        \n",
      " 8   country        9994 non-null   object        \n",
      " 9   city           9994 non-null   object        \n",
      " 10  state          9994 non-null   object        \n",
      " 11  postal_code    9983 non-null   object        \n",
      " 12  region         9994 non-null   object        \n",
      " 13  product_id     9994 non-null   object        \n",
      " 14  category       9994 non-null   object        \n",
      " 15  sub_category   9994 non-null   object        \n",
      " 16  product_name   9994 non-null   object        \n",
      " 17  sales          9994 non-null   float64       \n",
      " 18  quantity       9994 non-null   int64         \n",
      " 19  discount       9994 non-null   float64       \n",
      " 20  profit         9994 non-null   float64       \n",
      " 21  person         9994 non-null   object        \n",
      " 22  returned       9994 non-null   object        \n",
      "dtypes: datetime64[ns](2), float64(3), int64(2), object(16)\n",
      "memory usage: 1.8+ MB\n"
     ]
    },
    {
     "data": {
      "text/html": [
       "<div>\n",
       "<style scoped>\n",
       "    .dataframe tbody tr th:only-of-type {\n",
       "        vertical-align: middle;\n",
       "    }\n",
       "\n",
       "    .dataframe tbody tr th {\n",
       "        vertical-align: top;\n",
       "    }\n",
       "\n",
       "    .dataframe thead th {\n",
       "        text-align: right;\n",
       "    }\n",
       "</style>\n",
       "<table border=\"1\" class=\"dataframe\">\n",
       "  <thead>\n",
       "    <tr style=\"text-align: right;\">\n",
       "      <th></th>\n",
       "      <th>row_id</th>\n",
       "      <th>order_id</th>\n",
       "      <th>order_date</th>\n",
       "      <th>ship_date</th>\n",
       "      <th>ship_mode</th>\n",
       "      <th>customer_id</th>\n",
       "      <th>customer_name</th>\n",
       "      <th>segment</th>\n",
       "      <th>country</th>\n",
       "      <th>city</th>\n",
       "      <th>...</th>\n",
       "      <th>product_id</th>\n",
       "      <th>category</th>\n",
       "      <th>sub_category</th>\n",
       "      <th>product_name</th>\n",
       "      <th>sales</th>\n",
       "      <th>quantity</th>\n",
       "      <th>discount</th>\n",
       "      <th>profit</th>\n",
       "      <th>person</th>\n",
       "      <th>returned</th>\n",
       "    </tr>\n",
       "  </thead>\n",
       "  <tbody>\n",
       "    <tr>\n",
       "      <th>0</th>\n",
       "      <td>1</td>\n",
       "      <td>CA-2018-152156</td>\n",
       "      <td>2018-11-08</td>\n",
       "      <td>2018-11-11</td>\n",
       "      <td>Second Class</td>\n",
       "      <td>CG-12520</td>\n",
       "      <td>Claire Gute</td>\n",
       "      <td>Consumer</td>\n",
       "      <td>United States</td>\n",
       "      <td>Henderson</td>\n",
       "      <td>...</td>\n",
       "      <td>FUR-BO-10001798</td>\n",
       "      <td>Furniture</td>\n",
       "      <td>Bookcases</td>\n",
       "      <td>Bush Somerset Collection Bookcase</td>\n",
       "      <td>261.9600</td>\n",
       "      <td>2</td>\n",
       "      <td>0.00</td>\n",
       "      <td>41.9136</td>\n",
       "      <td>Cassandra Brandow</td>\n",
       "      <td>No</td>\n",
       "    </tr>\n",
       "    <tr>\n",
       "      <th>1</th>\n",
       "      <td>2</td>\n",
       "      <td>CA-2018-152156</td>\n",
       "      <td>2018-11-08</td>\n",
       "      <td>2018-11-11</td>\n",
       "      <td>Second Class</td>\n",
       "      <td>CG-12520</td>\n",
       "      <td>Claire Gute</td>\n",
       "      <td>Consumer</td>\n",
       "      <td>United States</td>\n",
       "      <td>Henderson</td>\n",
       "      <td>...</td>\n",
       "      <td>FUR-CH-10000454</td>\n",
       "      <td>Furniture</td>\n",
       "      <td>Chairs</td>\n",
       "      <td>Hon Deluxe Fabric Upholstered Stacking Chairs,...</td>\n",
       "      <td>731.9400</td>\n",
       "      <td>3</td>\n",
       "      <td>0.00</td>\n",
       "      <td>219.5820</td>\n",
       "      <td>Cassandra Brandow</td>\n",
       "      <td>No</td>\n",
       "    </tr>\n",
       "    <tr>\n",
       "      <th>2</th>\n",
       "      <td>3</td>\n",
       "      <td>CA-2018-138688</td>\n",
       "      <td>2018-06-12</td>\n",
       "      <td>2018-06-16</td>\n",
       "      <td>Second Class</td>\n",
       "      <td>DV-13045</td>\n",
       "      <td>Darrin Van Huff</td>\n",
       "      <td>Corporate</td>\n",
       "      <td>United States</td>\n",
       "      <td>Los Angeles</td>\n",
       "      <td>...</td>\n",
       "      <td>OFF-LA-10000240</td>\n",
       "      <td>Office Supplies</td>\n",
       "      <td>Labels</td>\n",
       "      <td>Self-Adhesive Address Labels for Typewriters b...</td>\n",
       "      <td>14.6200</td>\n",
       "      <td>2</td>\n",
       "      <td>0.00</td>\n",
       "      <td>6.8714</td>\n",
       "      <td>Anna Andreadi</td>\n",
       "      <td>No</td>\n",
       "    </tr>\n",
       "    <tr>\n",
       "      <th>3</th>\n",
       "      <td>4</td>\n",
       "      <td>US-2017-108966</td>\n",
       "      <td>2017-10-11</td>\n",
       "      <td>2017-10-18</td>\n",
       "      <td>Standard Class</td>\n",
       "      <td>SO-20335</td>\n",
       "      <td>Sean O'Donnell</td>\n",
       "      <td>Consumer</td>\n",
       "      <td>United States</td>\n",
       "      <td>Fort Lauderdale</td>\n",
       "      <td>...</td>\n",
       "      <td>FUR-TA-10000577</td>\n",
       "      <td>Furniture</td>\n",
       "      <td>Tables</td>\n",
       "      <td>Bretford CR4500 Series Slim Rectangular Table</td>\n",
       "      <td>957.5775</td>\n",
       "      <td>5</td>\n",
       "      <td>0.45</td>\n",
       "      <td>-383.0310</td>\n",
       "      <td>Cassandra Brandow</td>\n",
       "      <td>No</td>\n",
       "    </tr>\n",
       "    <tr>\n",
       "      <th>4</th>\n",
       "      <td>5</td>\n",
       "      <td>US-2017-108966</td>\n",
       "      <td>2017-10-11</td>\n",
       "      <td>2017-10-18</td>\n",
       "      <td>Standard Class</td>\n",
       "      <td>SO-20335</td>\n",
       "      <td>Sean O'Donnell</td>\n",
       "      <td>Consumer</td>\n",
       "      <td>United States</td>\n",
       "      <td>Fort Lauderdale</td>\n",
       "      <td>...</td>\n",
       "      <td>OFF-ST-10000760</td>\n",
       "      <td>Office Supplies</td>\n",
       "      <td>Storage</td>\n",
       "      <td>Eldon Fold 'N Roll Cart System</td>\n",
       "      <td>22.3680</td>\n",
       "      <td>2</td>\n",
       "      <td>0.20</td>\n",
       "      <td>2.5164</td>\n",
       "      <td>Cassandra Brandow</td>\n",
       "      <td>No</td>\n",
       "    </tr>\n",
       "  </tbody>\n",
       "</table>\n",
       "<p>5 rows × 23 columns</p>\n",
       "</div>"
      ],
      "text/plain": [
       "   row_id        order_id order_date  ship_date       ship_mode customer_id  \\\n",
       "0       1  CA-2018-152156 2018-11-08 2018-11-11    Second Class    CG-12520   \n",
       "1       2  CA-2018-152156 2018-11-08 2018-11-11    Second Class    CG-12520   \n",
       "2       3  CA-2018-138688 2018-06-12 2018-06-16    Second Class    DV-13045   \n",
       "3       4  US-2017-108966 2017-10-11 2017-10-18  Standard Class    SO-20335   \n",
       "4       5  US-2017-108966 2017-10-11 2017-10-18  Standard Class    SO-20335   \n",
       "\n",
       "     customer_name    segment        country             city  ...  \\\n",
       "0      Claire Gute   Consumer  United States        Henderson  ...   \n",
       "1      Claire Gute   Consumer  United States        Henderson  ...   \n",
       "2  Darrin Van Huff  Corporate  United States      Los Angeles  ...   \n",
       "3   Sean O'Donnell   Consumer  United States  Fort Lauderdale  ...   \n",
       "4   Sean O'Donnell   Consumer  United States  Fort Lauderdale  ...   \n",
       "\n",
       "        product_id         category sub_category  \\\n",
       "0  FUR-BO-10001798        Furniture    Bookcases   \n",
       "1  FUR-CH-10000454        Furniture       Chairs   \n",
       "2  OFF-LA-10000240  Office Supplies       Labels   \n",
       "3  FUR-TA-10000577        Furniture       Tables   \n",
       "4  OFF-ST-10000760  Office Supplies      Storage   \n",
       "\n",
       "                                        product_name     sales quantity  \\\n",
       "0                  Bush Somerset Collection Bookcase  261.9600        2   \n",
       "1  Hon Deluxe Fabric Upholstered Stacking Chairs,...  731.9400        3   \n",
       "2  Self-Adhesive Address Labels for Typewriters b...   14.6200        2   \n",
       "3      Bretford CR4500 Series Slim Rectangular Table  957.5775        5   \n",
       "4                     Eldon Fold 'N Roll Cart System   22.3680        2   \n",
       "\n",
       "  discount    profit             person  returned  \n",
       "0     0.00   41.9136  Cassandra Brandow        No  \n",
       "1     0.00  219.5820  Cassandra Brandow        No  \n",
       "2     0.00    6.8714      Anna Andreadi        No  \n",
       "3     0.45 -383.0310  Cassandra Brandow        No  \n",
       "4     0.20    2.5164  Cassandra Brandow        No  \n",
       "\n",
       "[5 rows x 23 columns]"
      ]
     },
     "execution_count": 3,
     "metadata": {},
     "output_type": "execute_result"
    }
   ],
   "source": [
    "data.info()\n",
    "data.head()"
   ]
  },
  {
   "cell_type": "code",
   "execution_count": 4,
   "id": "77113846-b0c3-424a-9dd0-281fbae81322",
   "metadata": {},
   "outputs": [
    {
     "data": {
      "text/html": [
       "<div>\n",
       "<style scoped>\n",
       "    .dataframe tbody tr th:only-of-type {\n",
       "        vertical-align: middle;\n",
       "    }\n",
       "\n",
       "    .dataframe tbody tr th {\n",
       "        vertical-align: top;\n",
       "    }\n",
       "\n",
       "    .dataframe thead th {\n",
       "        text-align: right;\n",
       "    }\n",
       "</style>\n",
       "<table border=\"1\" class=\"dataframe\">\n",
       "  <thead>\n",
       "    <tr style=\"text-align: right;\">\n",
       "      <th></th>\n",
       "      <th>state</th>\n",
       "      <th>city</th>\n",
       "      <th>postal_code</th>\n",
       "    </tr>\n",
       "  </thead>\n",
       "  <tbody>\n",
       "    <tr>\n",
       "      <th>2234</th>\n",
       "      <td>Vermont</td>\n",
       "      <td>Burlington</td>\n",
       "      <td>NaN</td>\n",
       "    </tr>\n",
       "  </tbody>\n",
       "</table>\n",
       "</div>"
      ],
      "text/plain": [
       "        state        city postal_code\n",
       "2234  Vermont  Burlington         NaN"
      ]
     },
     "execution_count": 4,
     "metadata": {},
     "output_type": "execute_result"
    }
   ],
   "source": [
    "data[data['postal_code'].isna()][['state', 'city', 'postal_code']].drop_duplicates()"
   ]
  },
  {
   "cell_type": "code",
   "execution_count": 5,
   "id": "fd53f26b-ebd1-4336-9d08-82b1cc9b25b4",
   "metadata": {},
   "outputs": [],
   "source": [
    "data['postal_code'] = data['postal_code'].fillna('05401')"
   ]
  },
  {
   "cell_type": "markdown",
   "id": "3fb8b72d-7e8a-4853-b5c3-2e3091735e1e",
   "metadata": {},
   "source": [
    "# Connection to PostgreSQL and insertion data to database"
   ]
  },
  {
   "cell_type": "code",
   "execution_count": 6,
   "id": "2af89a75-0077-466a-89a4-3007d69205c3",
   "metadata": {},
   "outputs": [],
   "source": [
    "times = {}\n",
    "counts = {}"
   ]
  },
  {
   "cell_type": "code",
   "execution_count": 7,
   "id": "93db9a07",
   "metadata": {},
   "outputs": [],
   "source": [
    "conn = pg2.connect(\"dbname='de101_module2' user=postgres password=1315420\")"
   ]
  },
  {
   "cell_type": "code",
   "execution_count": 8,
   "id": "2e662391-79ca-45c8-bbcb-f74e0c5aece4",
   "metadata": {},
   "outputs": [],
   "source": [
    "def insert_into_table(table:str, data:pd.DataFrame, conn:pg2.connect):\n",
    "    query = \"INSERT INTO %s(%s) VALUES %%s\" % (table, ','.join(data.columns))\n",
    "    cursor = conn.cursor()\n",
    "    try:\n",
    "        extras.execute_values(cursor, query, data.values)\n",
    "        conn.commit()\n",
    "    except (Exception, psycopg2.DatabaseError) as error:\n",
    "        print(\"Error: %s\" % error)\n",
    "        conn.rollback()\n",
    "        cursor.close()\n",
    "        return\n",
    "    print(\"the dataframe is inserted\")\n",
    "    cursor.close()"
   ]
  },
  {
   "cell_type": "code",
   "execution_count": 9,
   "id": "e4706b26-4204-43fe-8b31-893c8dc1d318",
   "metadata": {},
   "outputs": [],
   "source": [
    "def select_from_table(table:str, columns:list, conn:pg2.connect):\n",
    "    query = \"SELECT %s FROM %s\" % (','.join(columns), table)\n",
    "    cursor = conn.cursor()\n",
    "    try:\n",
    "        cursor.execute(query)\n",
    "        conn.commit()\n",
    "        return pd.DataFrame(cursor.fetchall(), columns=columns)\n",
    "    except (Exception, psycopg2.DatabaseError) as error:\n",
    "        print(\"Error: %s\" % error)\n",
    "        conn.rollback()\n",
    "        cursor.close()\n",
    "        return\n",
    "    cursor.close()"
   ]
  },
  {
   "cell_type": "markdown",
   "id": "03681b2d-5751-4541-9060-1c62d46d10ce",
   "metadata": {},
   "source": [
    "### Customers"
   ]
  },
  {
   "cell_type": "code",
   "execution_count": 10,
   "id": "e878e9ff-e626-44e4-90bd-b99f6e6b190a",
   "metadata": {},
   "outputs": [
    {
     "name": "stdout",
     "output_type": "stream",
     "text": [
      "Rows count:  793\n"
     ]
    },
    {
     "data": {
      "text/html": [
       "<div>\n",
       "<style scoped>\n",
       "    .dataframe tbody tr th:only-of-type {\n",
       "        vertical-align: middle;\n",
       "    }\n",
       "\n",
       "    .dataframe tbody tr th {\n",
       "        vertical-align: top;\n",
       "    }\n",
       "\n",
       "    .dataframe thead th {\n",
       "        text-align: right;\n",
       "    }\n",
       "</style>\n",
       "<table border=\"1\" class=\"dataframe\">\n",
       "  <thead>\n",
       "    <tr style=\"text-align: right;\">\n",
       "      <th></th>\n",
       "      <th>customer_id</th>\n",
       "      <th>customer_name</th>\n",
       "      <th>segment</th>\n",
       "    </tr>\n",
       "  </thead>\n",
       "  <tbody>\n",
       "    <tr>\n",
       "      <th>0</th>\n",
       "      <td>CG-12520</td>\n",
       "      <td>Claire Gute</td>\n",
       "      <td>Consumer</td>\n",
       "    </tr>\n",
       "    <tr>\n",
       "      <th>2</th>\n",
       "      <td>DV-13045</td>\n",
       "      <td>Darrin Van Huff</td>\n",
       "      <td>Corporate</td>\n",
       "    </tr>\n",
       "    <tr>\n",
       "      <th>3</th>\n",
       "      <td>SO-20335</td>\n",
       "      <td>Sean O'Donnell</td>\n",
       "      <td>Consumer</td>\n",
       "    </tr>\n",
       "    <tr>\n",
       "      <th>5</th>\n",
       "      <td>BH-11710</td>\n",
       "      <td>Brosina Hoffman</td>\n",
       "      <td>Consumer</td>\n",
       "    </tr>\n",
       "    <tr>\n",
       "      <th>12</th>\n",
       "      <td>AA-10480</td>\n",
       "      <td>Andrew Allen</td>\n",
       "      <td>Consumer</td>\n",
       "    </tr>\n",
       "  </tbody>\n",
       "</table>\n",
       "</div>"
      ],
      "text/plain": [
       "   customer_id    customer_name    segment\n",
       "0     CG-12520      Claire Gute   Consumer\n",
       "2     DV-13045  Darrin Van Huff  Corporate\n",
       "3     SO-20335   Sean O'Donnell   Consumer\n",
       "5     BH-11710  Brosina Hoffman   Consumer\n",
       "12    AA-10480     Andrew Allen   Consumer"
      ]
     },
     "execution_count": 10,
     "metadata": {},
     "output_type": "execute_result"
    }
   ],
   "source": [
    "customers = data[['customer_id', 'customer_name', 'segment']].drop_duplicates()\n",
    "print(\"Rows count: \", len(customers))\n",
    "counts['dw.customers'] = len(customers)\n",
    "customers.head()"
   ]
  },
  {
   "cell_type": "code",
   "execution_count": 11,
   "id": "4950c8cb-b6c3-4f12-916c-e426e8ad1748",
   "metadata": {},
   "outputs": [
    {
     "name": "stdout",
     "output_type": "stream",
     "text": [
      "the dataframe is inserted\n"
     ]
    }
   ],
   "source": [
    "insert_into_table('dw.customers', customers, conn)"
   ]
  },
  {
   "cell_type": "markdown",
   "id": "2d8d472e-1a1f-4f53-9a3e-25328f5592cc",
   "metadata": {},
   "source": [
    "### Regions"
   ]
  },
  {
   "cell_type": "code",
   "execution_count": 12,
   "id": "0f4c5a3b",
   "metadata": {},
   "outputs": [
    {
     "name": "stdout",
     "output_type": "stream",
     "text": [
      "Rows count:  4\n"
     ]
    },
    {
     "data": {
      "text/html": [
       "<div>\n",
       "<style scoped>\n",
       "    .dataframe tbody tr th:only-of-type {\n",
       "        vertical-align: middle;\n",
       "    }\n",
       "\n",
       "    .dataframe tbody tr th {\n",
       "        vertical-align: top;\n",
       "    }\n",
       "\n",
       "    .dataframe thead th {\n",
       "        text-align: right;\n",
       "    }\n",
       "</style>\n",
       "<table border=\"1\" class=\"dataframe\">\n",
       "  <thead>\n",
       "    <tr style=\"text-align: right;\">\n",
       "      <th></th>\n",
       "      <th>region</th>\n",
       "      <th>person</th>\n",
       "    </tr>\n",
       "  </thead>\n",
       "  <tbody>\n",
       "    <tr>\n",
       "      <th>0</th>\n",
       "      <td>South</td>\n",
       "      <td>Cassandra Brandow</td>\n",
       "    </tr>\n",
       "    <tr>\n",
       "      <th>2</th>\n",
       "      <td>West</td>\n",
       "      <td>Anna Andreadi</td>\n",
       "    </tr>\n",
       "    <tr>\n",
       "      <th>14</th>\n",
       "      <td>Central</td>\n",
       "      <td>Kelly Williams</td>\n",
       "    </tr>\n",
       "    <tr>\n",
       "      <th>23</th>\n",
       "      <td>East</td>\n",
       "      <td>Chuck Magee</td>\n",
       "    </tr>\n",
       "  </tbody>\n",
       "</table>\n",
       "</div>"
      ],
      "text/plain": [
       "     region             person\n",
       "0     South  Cassandra Brandow\n",
       "2      West      Anna Andreadi\n",
       "14  Central     Kelly Williams\n",
       "23     East        Chuck Magee"
      ]
     },
     "execution_count": 12,
     "metadata": {},
     "output_type": "execute_result"
    }
   ],
   "source": [
    "regions = data[['region', 'person']].drop_duplicates()\n",
    "print(\"Rows count: \", len(regions))\n",
    "counts['dw.regions'] = len(regions)\n",
    "regions"
   ]
  },
  {
   "cell_type": "code",
   "execution_count": 13,
   "id": "5dca3ac7-26e7-498c-b792-a5560d184012",
   "metadata": {},
   "outputs": [
    {
     "name": "stdout",
     "output_type": "stream",
     "text": [
      "the dataframe is inserted\n"
     ]
    }
   ],
   "source": [
    "start = time.time()\n",
    "insert_into_table('dw.regions', regions, conn)\n",
    "times['dw.regions'] = time.time() - start"
   ]
  },
  {
   "cell_type": "markdown",
   "id": "850de4da-91ef-4a2f-a7cc-c6046e9649e6",
   "metadata": {},
   "source": [
    "### Geography"
   ]
  },
  {
   "cell_type": "code",
   "execution_count": 14,
   "id": "bae00813",
   "metadata": {},
   "outputs": [
    {
     "name": "stdout",
     "output_type": "stream",
     "text": [
      "Rows count:  632\n"
     ]
    },
    {
     "data": {
      "text/html": [
       "<div>\n",
       "<style scoped>\n",
       "    .dataframe tbody tr th:only-of-type {\n",
       "        vertical-align: middle;\n",
       "    }\n",
       "\n",
       "    .dataframe tbody tr th {\n",
       "        vertical-align: top;\n",
       "    }\n",
       "\n",
       "    .dataframe thead th {\n",
       "        text-align: right;\n",
       "    }\n",
       "</style>\n",
       "<table border=\"1\" class=\"dataframe\">\n",
       "  <thead>\n",
       "    <tr style=\"text-align: right;\">\n",
       "      <th></th>\n",
       "      <th>country</th>\n",
       "      <th>city</th>\n",
       "      <th>state</th>\n",
       "      <th>postal_code</th>\n",
       "      <th>region</th>\n",
       "    </tr>\n",
       "  </thead>\n",
       "  <tbody>\n",
       "    <tr>\n",
       "      <th>0</th>\n",
       "      <td>United States</td>\n",
       "      <td>Henderson</td>\n",
       "      <td>Kentucky</td>\n",
       "      <td>42420</td>\n",
       "      <td>South</td>\n",
       "    </tr>\n",
       "    <tr>\n",
       "      <th>1</th>\n",
       "      <td>United States</td>\n",
       "      <td>Los Angeles</td>\n",
       "      <td>California</td>\n",
       "      <td>90036</td>\n",
       "      <td>West</td>\n",
       "    </tr>\n",
       "    <tr>\n",
       "      <th>2</th>\n",
       "      <td>United States</td>\n",
       "      <td>Fort Lauderdale</td>\n",
       "      <td>Florida</td>\n",
       "      <td>33311</td>\n",
       "      <td>South</td>\n",
       "    </tr>\n",
       "    <tr>\n",
       "      <th>3</th>\n",
       "      <td>United States</td>\n",
       "      <td>Los Angeles</td>\n",
       "      <td>California</td>\n",
       "      <td>90032</td>\n",
       "      <td>West</td>\n",
       "    </tr>\n",
       "    <tr>\n",
       "      <th>4</th>\n",
       "      <td>United States</td>\n",
       "      <td>Concord</td>\n",
       "      <td>North Carolina</td>\n",
       "      <td>28027</td>\n",
       "      <td>South</td>\n",
       "    </tr>\n",
       "  </tbody>\n",
       "</table>\n",
       "</div>"
      ],
      "text/plain": [
       "         country             city           state postal_code region\n",
       "0  United States        Henderson        Kentucky       42420  South\n",
       "1  United States      Los Angeles      California       90036   West\n",
       "2  United States  Fort Lauderdale         Florida       33311  South\n",
       "3  United States      Los Angeles      California       90032   West\n",
       "4  United States          Concord  North Carolina       28027  South"
      ]
     },
     "execution_count": 14,
     "metadata": {},
     "output_type": "execute_result"
    }
   ],
   "source": [
    "geography = data[['country', 'city', 'state', 'postal_code', 'region']].drop_duplicates().reset_index(drop=True)\n",
    "print(\"Rows count: \", len(geography))\n",
    "geography.head()"
   ]
  },
  {
   "cell_type": "code",
   "execution_count": 15,
   "id": "03e38368",
   "metadata": {},
   "outputs": [
    {
     "data": {
      "text/html": [
       "<div>\n",
       "<style scoped>\n",
       "    .dataframe tbody tr th:only-of-type {\n",
       "        vertical-align: middle;\n",
       "    }\n",
       "\n",
       "    .dataframe tbody tr th {\n",
       "        vertical-align: top;\n",
       "    }\n",
       "\n",
       "    .dataframe thead th {\n",
       "        text-align: right;\n",
       "    }\n",
       "</style>\n",
       "<table border=\"1\" class=\"dataframe\">\n",
       "  <thead>\n",
       "    <tr style=\"text-align: right;\">\n",
       "      <th></th>\n",
       "      <th>region</th>\n",
       "      <th>region_uid</th>\n",
       "    </tr>\n",
       "  </thead>\n",
       "  <tbody>\n",
       "    <tr>\n",
       "      <th>0</th>\n",
       "      <td>South</td>\n",
       "      <td>1</td>\n",
       "    </tr>\n",
       "    <tr>\n",
       "      <th>2</th>\n",
       "      <td>West</td>\n",
       "      <td>2</td>\n",
       "    </tr>\n",
       "    <tr>\n",
       "      <th>14</th>\n",
       "      <td>Central</td>\n",
       "      <td>3</td>\n",
       "    </tr>\n",
       "    <tr>\n",
       "      <th>23</th>\n",
       "      <td>East</td>\n",
       "      <td>4</td>\n",
       "    </tr>\n",
       "  </tbody>\n",
       "</table>\n",
       "</div>"
      ],
      "text/plain": [
       "     region  region_uid\n",
       "0     South           1\n",
       "2      West           2\n",
       "14  Central           3\n",
       "23     East           4"
      ]
     },
     "execution_count": 15,
     "metadata": {},
     "output_type": "execute_result"
    }
   ],
   "source": [
    "regions_uid = regions[['region']]\n",
    "regions_uid['region_uid'] = range(1, regions_uid.shape[0]+1)\n",
    "regions_uid"
   ]
  },
  {
   "cell_type": "code",
   "execution_count": 16,
   "id": "b75333b7",
   "metadata": {},
   "outputs": [
    {
     "data": {
      "text/html": [
       "<div>\n",
       "<style scoped>\n",
       "    .dataframe tbody tr th:only-of-type {\n",
       "        vertical-align: middle;\n",
       "    }\n",
       "\n",
       "    .dataframe tbody tr th {\n",
       "        vertical-align: top;\n",
       "    }\n",
       "\n",
       "    .dataframe thead th {\n",
       "        text-align: right;\n",
       "    }\n",
       "</style>\n",
       "<table border=\"1\" class=\"dataframe\">\n",
       "  <thead>\n",
       "    <tr style=\"text-align: right;\">\n",
       "      <th></th>\n",
       "      <th>country</th>\n",
       "      <th>city</th>\n",
       "      <th>state</th>\n",
       "      <th>postal_code</th>\n",
       "      <th>region_uid</th>\n",
       "    </tr>\n",
       "  </thead>\n",
       "  <tbody>\n",
       "    <tr>\n",
       "      <th>0</th>\n",
       "      <td>United States</td>\n",
       "      <td>Henderson</td>\n",
       "      <td>Kentucky</td>\n",
       "      <td>42420</td>\n",
       "      <td>1</td>\n",
       "    </tr>\n",
       "    <tr>\n",
       "      <th>1</th>\n",
       "      <td>United States</td>\n",
       "      <td>Fort Lauderdale</td>\n",
       "      <td>Florida</td>\n",
       "      <td>33311</td>\n",
       "      <td>1</td>\n",
       "    </tr>\n",
       "    <tr>\n",
       "      <th>2</th>\n",
       "      <td>United States</td>\n",
       "      <td>Concord</td>\n",
       "      <td>North Carolina</td>\n",
       "      <td>28027</td>\n",
       "      <td>1</td>\n",
       "    </tr>\n",
       "    <tr>\n",
       "      <th>3</th>\n",
       "      <td>United States</td>\n",
       "      <td>Melbourne</td>\n",
       "      <td>Florida</td>\n",
       "      <td>32935</td>\n",
       "      <td>1</td>\n",
       "    </tr>\n",
       "    <tr>\n",
       "      <th>4</th>\n",
       "      <td>United States</td>\n",
       "      <td>Springfield</td>\n",
       "      <td>Virginia</td>\n",
       "      <td>22153</td>\n",
       "      <td>1</td>\n",
       "    </tr>\n",
       "  </tbody>\n",
       "</table>\n",
       "</div>"
      ],
      "text/plain": [
       "         country             city           state postal_code  region_uid\n",
       "0  United States        Henderson        Kentucky       42420           1\n",
       "1  United States  Fort Lauderdale         Florida       33311           1\n",
       "2  United States          Concord  North Carolina       28027           1\n",
       "3  United States        Melbourne         Florida       32935           1\n",
       "4  United States      Springfield        Virginia       22153           1"
      ]
     },
     "execution_count": 16,
     "metadata": {},
     "output_type": "execute_result"
    }
   ],
   "source": [
    "geography = geography.merge(regions_uid, on='region')\n",
    "geography = geography[geography.columns.drop('region')]\n",
    "counts['dw.geography'] = len(geography)\n",
    "geography.head()"
   ]
  },
  {
   "cell_type": "code",
   "execution_count": 17,
   "id": "e39c1db6-14c2-4a34-8d1a-6449dbfc68b8",
   "metadata": {},
   "outputs": [
    {
     "name": "stdout",
     "output_type": "stream",
     "text": [
      "the dataframe is inserted\n"
     ]
    }
   ],
   "source": [
    "start = time.time()\n",
    "insert_into_table('dw.geography', geography, conn)\n",
    "times['dw.geography'] = time.time() - start"
   ]
  },
  {
   "cell_type": "markdown",
   "id": "ed9a32c1-a659-47e3-a0a5-3d0590d1b154",
   "metadata": {},
   "source": [
    "### Products"
   ]
  },
  {
   "cell_type": "code",
   "execution_count": 18,
   "id": "6848d584-7e59-4e1c-b90d-2c076012d273",
   "metadata": {},
   "outputs": [
    {
     "name": "stdout",
     "output_type": "stream",
     "text": [
      "Rows count:  1894\n"
     ]
    },
    {
     "data": {
      "text/html": [
       "<div>\n",
       "<style scoped>\n",
       "    .dataframe tbody tr th:only-of-type {\n",
       "        vertical-align: middle;\n",
       "    }\n",
       "\n",
       "    .dataframe tbody tr th {\n",
       "        vertical-align: top;\n",
       "    }\n",
       "\n",
       "    .dataframe thead th {\n",
       "        text-align: right;\n",
       "    }\n",
       "</style>\n",
       "<table border=\"1\" class=\"dataframe\">\n",
       "  <thead>\n",
       "    <tr style=\"text-align: right;\">\n",
       "      <th></th>\n",
       "      <th>product_id</th>\n",
       "      <th>product_name</th>\n",
       "      <th>category</th>\n",
       "      <th>sub_category</th>\n",
       "    </tr>\n",
       "  </thead>\n",
       "  <tbody>\n",
       "    <tr>\n",
       "      <th>0</th>\n",
       "      <td>FUR-BO-10001798</td>\n",
       "      <td>Bush Somerset Collection Bookcase</td>\n",
       "      <td>Furniture</td>\n",
       "      <td>Bookcases</td>\n",
       "    </tr>\n",
       "    <tr>\n",
       "      <th>1</th>\n",
       "      <td>FUR-CH-10000454</td>\n",
       "      <td>Hon Deluxe Fabric Upholstered Stacking Chairs,...</td>\n",
       "      <td>Furniture</td>\n",
       "      <td>Chairs</td>\n",
       "    </tr>\n",
       "    <tr>\n",
       "      <th>2</th>\n",
       "      <td>OFF-LA-10000240</td>\n",
       "      <td>Self-Adhesive Address Labels for Typewriters b...</td>\n",
       "      <td>Office Supplies</td>\n",
       "      <td>Labels</td>\n",
       "    </tr>\n",
       "    <tr>\n",
       "      <th>3</th>\n",
       "      <td>FUR-TA-10000577</td>\n",
       "      <td>Bretford CR4500 Series Slim Rectangular Table</td>\n",
       "      <td>Furniture</td>\n",
       "      <td>Tables</td>\n",
       "    </tr>\n",
       "    <tr>\n",
       "      <th>4</th>\n",
       "      <td>OFF-ST-10000760</td>\n",
       "      <td>Eldon Fold 'N Roll Cart System</td>\n",
       "      <td>Office Supplies</td>\n",
       "      <td>Storage</td>\n",
       "    </tr>\n",
       "  </tbody>\n",
       "</table>\n",
       "</div>"
      ],
      "text/plain": [
       "        product_id                                       product_name  \\\n",
       "0  FUR-BO-10001798                  Bush Somerset Collection Bookcase   \n",
       "1  FUR-CH-10000454  Hon Deluxe Fabric Upholstered Stacking Chairs,...   \n",
       "2  OFF-LA-10000240  Self-Adhesive Address Labels for Typewriters b...   \n",
       "3  FUR-TA-10000577      Bretford CR4500 Series Slim Rectangular Table   \n",
       "4  OFF-ST-10000760                     Eldon Fold 'N Roll Cart System   \n",
       "\n",
       "          category sub_category  \n",
       "0        Furniture    Bookcases  \n",
       "1        Furniture       Chairs  \n",
       "2  Office Supplies       Labels  \n",
       "3        Furniture       Tables  \n",
       "4  Office Supplies      Storage  "
      ]
     },
     "execution_count": 18,
     "metadata": {},
     "output_type": "execute_result"
    }
   ],
   "source": [
    "products = data[['product_id', 'product_name', 'category', 'sub_category']].drop_duplicates()\n",
    "counts['dw.products'] = len(products)\n",
    "print(\"Rows count: \", len(products))\n",
    "products.head()"
   ]
  },
  {
   "cell_type": "code",
   "execution_count": 19,
   "id": "c725ce41-1ff7-4e17-bf43-f8eb4ecb03ef",
   "metadata": {},
   "outputs": [
    {
     "name": "stdout",
     "output_type": "stream",
     "text": [
      "the dataframe is inserted\n"
     ]
    }
   ],
   "source": [
    "start = time.time()\n",
    "insert_into_table('dw.products', products, conn)\n",
    "times['dw.products'] = time.time() - start"
   ]
  },
  {
   "cell_type": "markdown",
   "id": "40dfd9fc-f221-4089-8dff-9aae4d1c17e1",
   "metadata": {},
   "source": [
    "### Orders"
   ]
  },
  {
   "cell_type": "code",
   "execution_count": 20,
   "id": "8dfa52e1-88e3-4c63-8b36-7fd5d0e9f987",
   "metadata": {},
   "outputs": [
    {
     "name": "stdout",
     "output_type": "stream",
     "text": [
      "Rows count:  5009\n"
     ]
    },
    {
     "data": {
      "text/html": [
       "<div>\n",
       "<style scoped>\n",
       "    .dataframe tbody tr th:only-of-type {\n",
       "        vertical-align: middle;\n",
       "    }\n",
       "\n",
       "    .dataframe tbody tr th {\n",
       "        vertical-align: top;\n",
       "    }\n",
       "\n",
       "    .dataframe thead th {\n",
       "        text-align: right;\n",
       "    }\n",
       "</style>\n",
       "<table border=\"1\" class=\"dataframe\">\n",
       "  <thead>\n",
       "    <tr style=\"text-align: right;\">\n",
       "      <th></th>\n",
       "      <th>order_id</th>\n",
       "      <th>order_date</th>\n",
       "    </tr>\n",
       "  </thead>\n",
       "  <tbody>\n",
       "    <tr>\n",
       "      <th>0</th>\n",
       "      <td>CA-2018-152156</td>\n",
       "      <td>2018-11-08</td>\n",
       "    </tr>\n",
       "    <tr>\n",
       "      <th>2</th>\n",
       "      <td>CA-2018-138688</td>\n",
       "      <td>2018-06-12</td>\n",
       "    </tr>\n",
       "    <tr>\n",
       "      <th>3</th>\n",
       "      <td>US-2017-108966</td>\n",
       "      <td>2017-10-11</td>\n",
       "    </tr>\n",
       "    <tr>\n",
       "      <th>5</th>\n",
       "      <td>CA-2016-115812</td>\n",
       "      <td>2016-06-09</td>\n",
       "    </tr>\n",
       "    <tr>\n",
       "      <th>12</th>\n",
       "      <td>CA-2019-114412</td>\n",
       "      <td>2019-04-15</td>\n",
       "    </tr>\n",
       "  </tbody>\n",
       "</table>\n",
       "</div>"
      ],
      "text/plain": [
       "          order_id order_date\n",
       "0   CA-2018-152156 2018-11-08\n",
       "2   CA-2018-138688 2018-06-12\n",
       "3   US-2017-108966 2017-10-11\n",
       "5   CA-2016-115812 2016-06-09\n",
       "12  CA-2019-114412 2019-04-15"
      ]
     },
     "execution_count": 20,
     "metadata": {},
     "output_type": "execute_result"
    }
   ],
   "source": [
    "orders = data[['order_id', 'order_date']].drop_duplicates()\n",
    "print(\"Rows count: \", len(orders))\n",
    "counts['dw.orders'] = len(orders)\n",
    "orders.head()"
   ]
  },
  {
   "cell_type": "code",
   "execution_count": 21,
   "id": "eca3edf1-4dac-4dda-834c-d0eaf25aebc1",
   "metadata": {},
   "outputs": [
    {
     "name": "stdout",
     "output_type": "stream",
     "text": [
      "the dataframe is inserted\n"
     ]
    }
   ],
   "source": [
    "start = time.time()\n",
    "insert_into_table('dw.orders', orders, conn)\n",
    "times['dw.orders'] = time.time() - start"
   ]
  },
  {
   "cell_type": "markdown",
   "id": "44d934fe-b4ec-439e-8b22-83cfabe65bac",
   "metadata": {},
   "source": [
    "### Shipping"
   ]
  },
  {
   "cell_type": "code",
   "execution_count": 22,
   "id": "f9c9831e-b4b8-4d3b-abfa-e5efc79374a2",
   "metadata": {},
   "outputs": [
    {
     "name": "stdout",
     "output_type": "stream",
     "text": [
      "Rows count:  5009\n"
     ]
    },
    {
     "data": {
      "text/html": [
       "<div>\n",
       "<style scoped>\n",
       "    .dataframe tbody tr th:only-of-type {\n",
       "        vertical-align: middle;\n",
       "    }\n",
       "\n",
       "    .dataframe tbody tr th {\n",
       "        vertical-align: top;\n",
       "    }\n",
       "\n",
       "    .dataframe thead th {\n",
       "        text-align: right;\n",
       "    }\n",
       "</style>\n",
       "<table border=\"1\" class=\"dataframe\">\n",
       "  <thead>\n",
       "    <tr style=\"text-align: right;\">\n",
       "      <th></th>\n",
       "      <th>order_id</th>\n",
       "      <th>order_date</th>\n",
       "      <th>ship_date</th>\n",
       "      <th>ship_mode</th>\n",
       "      <th>state</th>\n",
       "      <th>city</th>\n",
       "      <th>postal_code</th>\n",
       "    </tr>\n",
       "  </thead>\n",
       "  <tbody>\n",
       "    <tr>\n",
       "      <th>9986</th>\n",
       "      <td>CA-2018-125794</td>\n",
       "      <td>2018-09-29</td>\n",
       "      <td>2018-10-03</td>\n",
       "      <td>Standard Class</td>\n",
       "      <td>California</td>\n",
       "      <td>Los Angeles</td>\n",
       "      <td>90008</td>\n",
       "    </tr>\n",
       "    <tr>\n",
       "      <th>9987</th>\n",
       "      <td>CA-2019-163629</td>\n",
       "      <td>2019-11-17</td>\n",
       "      <td>2019-11-21</td>\n",
       "      <td>Standard Class</td>\n",
       "      <td>Georgia</td>\n",
       "      <td>Athens</td>\n",
       "      <td>30605</td>\n",
       "    </tr>\n",
       "    <tr>\n",
       "      <th>9989</th>\n",
       "      <td>CA-2016-110422</td>\n",
       "      <td>2016-01-21</td>\n",
       "      <td>2016-01-23</td>\n",
       "      <td>Second Class</td>\n",
       "      <td>Florida</td>\n",
       "      <td>Miami</td>\n",
       "      <td>33180</td>\n",
       "    </tr>\n",
       "    <tr>\n",
       "      <th>9990</th>\n",
       "      <td>CA-2019-121258</td>\n",
       "      <td>2019-02-26</td>\n",
       "      <td>2019-03-03</td>\n",
       "      <td>Standard Class</td>\n",
       "      <td>California</td>\n",
       "      <td>Costa Mesa</td>\n",
       "      <td>92627</td>\n",
       "    </tr>\n",
       "    <tr>\n",
       "      <th>9993</th>\n",
       "      <td>CA-2019-119914</td>\n",
       "      <td>2019-05-04</td>\n",
       "      <td>2019-05-09</td>\n",
       "      <td>Second Class</td>\n",
       "      <td>California</td>\n",
       "      <td>Westminster</td>\n",
       "      <td>92683</td>\n",
       "    </tr>\n",
       "  </tbody>\n",
       "</table>\n",
       "</div>"
      ],
      "text/plain": [
       "            order_id order_date  ship_date       ship_mode       state  \\\n",
       "9986  CA-2018-125794 2018-09-29 2018-10-03  Standard Class  California   \n",
       "9987  CA-2019-163629 2019-11-17 2019-11-21  Standard Class     Georgia   \n",
       "9989  CA-2016-110422 2016-01-21 2016-01-23    Second Class     Florida   \n",
       "9990  CA-2019-121258 2019-02-26 2019-03-03  Standard Class  California   \n",
       "9993  CA-2019-119914 2019-05-04 2019-05-09    Second Class  California   \n",
       "\n",
       "             city postal_code  \n",
       "9986  Los Angeles       90008  \n",
       "9987       Athens       30605  \n",
       "9989        Miami       33180  \n",
       "9990   Costa Mesa       92627  \n",
       "9993  Westminster       92683  "
      ]
     },
     "execution_count": 22,
     "metadata": {},
     "output_type": "execute_result"
    }
   ],
   "source": [
    "shipping = data[['order_id', 'order_date', 'ship_date', 'ship_mode', 'state', 'city', 'postal_code']].drop_duplicates()\n",
    "print(\"Rows count: \", len(shipping))\n",
    "shipping.tail()"
   ]
  },
  {
   "cell_type": "code",
   "execution_count": 23,
   "id": "8add6b00-1197-47ab-9278-680ead1eba38",
   "metadata": {},
   "outputs": [],
   "source": [
    "ord_df = select_from_table('dw.orders', ['order_uid', 'order_id', 'order_date'], conn)\n",
    "ord_df['order_date'] = ord_df['order_date'].astype('datetime64[ns]')\n",
    "\n",
    "geo_df = select_from_table('dw.geography', ['geo_id', 'state', 'city', 'postal_code'], conn)"
   ]
  },
  {
   "cell_type": "code",
   "execution_count": 24,
   "id": "746e633f-07b2-43fa-9df3-2321d8ca6673",
   "metadata": {},
   "outputs": [
    {
     "name": "stdout",
     "output_type": "stream",
     "text": [
      "Rows count:  5009\n"
     ]
    },
    {
     "data": {
      "text/html": [
       "<div>\n",
       "<style scoped>\n",
       "    .dataframe tbody tr th:only-of-type {\n",
       "        vertical-align: middle;\n",
       "    }\n",
       "\n",
       "    .dataframe tbody tr th {\n",
       "        vertical-align: top;\n",
       "    }\n",
       "\n",
       "    .dataframe thead th {\n",
       "        text-align: right;\n",
       "    }\n",
       "</style>\n",
       "<table border=\"1\" class=\"dataframe\">\n",
       "  <thead>\n",
       "    <tr style=\"text-align: right;\">\n",
       "      <th></th>\n",
       "      <th>ship_date</th>\n",
       "      <th>ship_mode</th>\n",
       "      <th>order_uid</th>\n",
       "      <th>geo_id</th>\n",
       "    </tr>\n",
       "  </thead>\n",
       "  <tbody>\n",
       "    <tr>\n",
       "      <th>0</th>\n",
       "      <td>2018-11-11</td>\n",
       "      <td>Second Class</td>\n",
       "      <td>1000000</td>\n",
       "      <td>1000</td>\n",
       "    </tr>\n",
       "    <tr>\n",
       "      <th>1</th>\n",
       "      <td>2018-06-16</td>\n",
       "      <td>Second Class</td>\n",
       "      <td>1000001</td>\n",
       "      <td>1136</td>\n",
       "    </tr>\n",
       "    <tr>\n",
       "      <th>2</th>\n",
       "      <td>2017-10-18</td>\n",
       "      <td>Standard Class</td>\n",
       "      <td>1000002</td>\n",
       "      <td>1001</td>\n",
       "    </tr>\n",
       "    <tr>\n",
       "      <th>3</th>\n",
       "      <td>2016-06-14</td>\n",
       "      <td>Standard Class</td>\n",
       "      <td>1000003</td>\n",
       "      <td>1137</td>\n",
       "    </tr>\n",
       "    <tr>\n",
       "      <th>4</th>\n",
       "      <td>2019-04-20</td>\n",
       "      <td>Standard Class</td>\n",
       "      <td>1000004</td>\n",
       "      <td>1002</td>\n",
       "    </tr>\n",
       "  </tbody>\n",
       "</table>\n",
       "</div>"
      ],
      "text/plain": [
       "   ship_date       ship_mode  order_uid  geo_id\n",
       "0 2018-11-11    Second Class    1000000    1000\n",
       "1 2018-06-16    Second Class    1000001    1136\n",
       "2 2017-10-18  Standard Class    1000002    1001\n",
       "3 2016-06-14  Standard Class    1000003    1137\n",
       "4 2019-04-20  Standard Class    1000004    1002"
      ]
     },
     "execution_count": 24,
     "metadata": {},
     "output_type": "execute_result"
    }
   ],
   "source": [
    "shipping = shipping.merge(ord_df, on=['order_id', 'order_date'], how='left')\n",
    "shipping = shipping.merge(geo_df, on=['state', 'city', 'postal_code'], how='left')\n",
    "shipping = shipping[shipping.columns.drop(['order_id', 'order_date', 'state', 'city', 'postal_code'])]\n",
    "print(\"Rows count: \", len(shipping))\n",
    "counts['dw.shipping'] = len(shipping)\n",
    "shipping.head()"
   ]
  },
  {
   "cell_type": "code",
   "execution_count": 25,
   "id": "d81acd30-92da-4619-8d9a-55393dae4774",
   "metadata": {},
   "outputs": [
    {
     "name": "stdout",
     "output_type": "stream",
     "text": [
      "the dataframe is inserted\n"
     ]
    }
   ],
   "source": [
    "start = time.time()\n",
    "insert_into_table('dw.shipping', shipping, conn)\n",
    "times['dw.shipping'] = time.time() - start"
   ]
  },
  {
   "cell_type": "markdown",
   "id": "cd8e32b7-ca86-46a4-be13-4930cb20310d",
   "metadata": {},
   "source": [
    "### Order Facts"
   ]
  },
  {
   "cell_type": "code",
   "execution_count": 29,
   "id": "8dbc2885-80bd-44a3-ae54-474b6f9bb067",
   "metadata": {},
   "outputs": [
    {
     "name": "stdout",
     "output_type": "stream",
     "text": [
      "Rows count:  9994\n"
     ]
    },
    {
     "data": {
      "text/html": [
       "<div>\n",
       "<style scoped>\n",
       "    .dataframe tbody tr th:only-of-type {\n",
       "        vertical-align: middle;\n",
       "    }\n",
       "\n",
       "    .dataframe tbody tr th {\n",
       "        vertical-align: top;\n",
       "    }\n",
       "\n",
       "    .dataframe thead th {\n",
       "        text-align: right;\n",
       "    }\n",
       "</style>\n",
       "<table border=\"1\" class=\"dataframe\">\n",
       "  <thead>\n",
       "    <tr style=\"text-align: right;\">\n",
       "      <th></th>\n",
       "      <th>row_id</th>\n",
       "      <th>order_id</th>\n",
       "      <th>product_id</th>\n",
       "      <th>product_name</th>\n",
       "      <th>customer_id</th>\n",
       "      <th>returned</th>\n",
       "    </tr>\n",
       "  </thead>\n",
       "  <tbody>\n",
       "    <tr>\n",
       "      <th>0</th>\n",
       "      <td>1</td>\n",
       "      <td>CA-2018-152156</td>\n",
       "      <td>FUR-BO-10001798</td>\n",
       "      <td>Bush Somerset Collection Bookcase</td>\n",
       "      <td>CG-12520</td>\n",
       "      <td>False</td>\n",
       "    </tr>\n",
       "    <tr>\n",
       "      <th>1</th>\n",
       "      <td>2</td>\n",
       "      <td>CA-2018-152156</td>\n",
       "      <td>FUR-CH-10000454</td>\n",
       "      <td>Hon Deluxe Fabric Upholstered Stacking Chairs,...</td>\n",
       "      <td>CG-12520</td>\n",
       "      <td>False</td>\n",
       "    </tr>\n",
       "    <tr>\n",
       "      <th>2</th>\n",
       "      <td>3</td>\n",
       "      <td>CA-2018-138688</td>\n",
       "      <td>OFF-LA-10000240</td>\n",
       "      <td>Self-Adhesive Address Labels for Typewriters b...</td>\n",
       "      <td>DV-13045</td>\n",
       "      <td>False</td>\n",
       "    </tr>\n",
       "    <tr>\n",
       "      <th>3</th>\n",
       "      <td>4</td>\n",
       "      <td>US-2017-108966</td>\n",
       "      <td>FUR-TA-10000577</td>\n",
       "      <td>Bretford CR4500 Series Slim Rectangular Table</td>\n",
       "      <td>SO-20335</td>\n",
       "      <td>False</td>\n",
       "    </tr>\n",
       "    <tr>\n",
       "      <th>4</th>\n",
       "      <td>5</td>\n",
       "      <td>US-2017-108966</td>\n",
       "      <td>OFF-ST-10000760</td>\n",
       "      <td>Eldon Fold 'N Roll Cart System</td>\n",
       "      <td>SO-20335</td>\n",
       "      <td>False</td>\n",
       "    </tr>\n",
       "  </tbody>\n",
       "</table>\n",
       "</div>"
      ],
      "text/plain": [
       "   row_id        order_id       product_id  \\\n",
       "0       1  CA-2018-152156  FUR-BO-10001798   \n",
       "1       2  CA-2018-152156  FUR-CH-10000454   \n",
       "2       3  CA-2018-138688  OFF-LA-10000240   \n",
       "3       4  US-2017-108966  FUR-TA-10000577   \n",
       "4       5  US-2017-108966  OFF-ST-10000760   \n",
       "\n",
       "                                        product_name customer_id returned  \n",
       "0                  Bush Somerset Collection Bookcase    CG-12520    False  \n",
       "1  Hon Deluxe Fabric Upholstered Stacking Chairs,...    CG-12520    False  \n",
       "2  Self-Adhesive Address Labels for Typewriters b...    DV-13045    False  \n",
       "3      Bretford CR4500 Series Slim Rectangular Table    SO-20335    False  \n",
       "4                     Eldon Fold 'N Roll Cart System    SO-20335    False  "
      ]
     },
     "execution_count": 29,
     "metadata": {},
     "output_type": "execute_result"
    }
   ],
   "source": [
    "ord_facts = data[['row_id', 'order_id', 'product_id', 'product_name', 'customer_id', 'returned']]\n",
    "ord_facts.loc[:, 'returned'] = ord_facts['returned'].replace({'Yes': True, 'No': False}).astype(bool)\n",
    "print(\"Rows count: \", len(ord_facts))\n",
    "ord_facts.head()"
   ]
  },
  {
   "cell_type": "code",
   "execution_count": 30,
   "id": "99d4fe23-c8ea-4896-aeb9-bd38258b528f",
   "metadata": {},
   "outputs": [
    {
     "name": "stdout",
     "output_type": "stream",
     "text": [
      "Rows count:  9994\n"
     ]
    },
    {
     "data": {
      "text/html": [
       "<div>\n",
       "<style scoped>\n",
       "    .dataframe tbody tr th:only-of-type {\n",
       "        vertical-align: middle;\n",
       "    }\n",
       "\n",
       "    .dataframe tbody tr th {\n",
       "        vertical-align: top;\n",
       "    }\n",
       "\n",
       "    .dataframe thead th {\n",
       "        text-align: right;\n",
       "    }\n",
       "</style>\n",
       "<table border=\"1\" class=\"dataframe\">\n",
       "  <thead>\n",
       "    <tr style=\"text-align: right;\">\n",
       "      <th></th>\n",
       "      <th>row_id</th>\n",
       "      <th>returned</th>\n",
       "      <th>product_uid</th>\n",
       "      <th>customer_uid</th>\n",
       "      <th>order_uid</th>\n",
       "    </tr>\n",
       "  </thead>\n",
       "  <tbody>\n",
       "    <tr>\n",
       "      <th>0</th>\n",
       "      <td>1</td>\n",
       "      <td>False</td>\n",
       "      <td>100000</td>\n",
       "      <td>10000</td>\n",
       "      <td>1000000</td>\n",
       "    </tr>\n",
       "    <tr>\n",
       "      <th>1</th>\n",
       "      <td>2</td>\n",
       "      <td>False</td>\n",
       "      <td>100001</td>\n",
       "      <td>10000</td>\n",
       "      <td>1000000</td>\n",
       "    </tr>\n",
       "    <tr>\n",
       "      <th>2</th>\n",
       "      <td>3</td>\n",
       "      <td>False</td>\n",
       "      <td>100002</td>\n",
       "      <td>10001</td>\n",
       "      <td>1000001</td>\n",
       "    </tr>\n",
       "    <tr>\n",
       "      <th>3</th>\n",
       "      <td>4</td>\n",
       "      <td>False</td>\n",
       "      <td>100003</td>\n",
       "      <td>10002</td>\n",
       "      <td>1000002</td>\n",
       "    </tr>\n",
       "    <tr>\n",
       "      <th>4</th>\n",
       "      <td>5</td>\n",
       "      <td>False</td>\n",
       "      <td>100004</td>\n",
       "      <td>10002</td>\n",
       "      <td>1000002</td>\n",
       "    </tr>\n",
       "  </tbody>\n",
       "</table>\n",
       "</div>"
      ],
      "text/plain": [
       "   row_id returned  product_uid  customer_uid  order_uid\n",
       "0       1    False       100000         10000    1000000\n",
       "1       2    False       100001         10000    1000000\n",
       "2       3    False       100002         10001    1000001\n",
       "3       4    False       100003         10002    1000002\n",
       "4       5    False       100004         10002    1000002"
      ]
     },
     "execution_count": 30,
     "metadata": {},
     "output_type": "execute_result"
    }
   ],
   "source": [
    "prod_df = select_from_table('dw.products', ['product_uid', 'product_id', 'product_name'], conn)\n",
    "cust_df = select_from_table('dw.customers', ['customer_uid', 'customer_id'], conn)\n",
    "ord_df = select_from_table('dw.orders', ['order_uid', 'order_id'], conn)\n",
    "\n",
    "ord_facts = ord_facts.merge(prod_df, on=['product_id', 'product_name'], how='left')\n",
    "ord_facts = ord_facts.merge(cust_df, on='customer_id', how='left')\n",
    "ord_facts = ord_facts.merge(ord_df, on='order_id', how='left')\n",
    "ord_facts = ord_facts[ord_facts.columns.drop(['order_id', 'product_id', 'product_name', 'customer_id'])]\n",
    "print(\"Rows count: \", len(ord_facts))\n",
    "counts['dw.order_facts'] = len(ord_facts)\n",
    "ord_facts.head()"
   ]
  },
  {
   "cell_type": "code",
   "execution_count": 31,
   "id": "30e6f08f-0d10-4835-aa89-f0008d67f5d5",
   "metadata": {},
   "outputs": [
    {
     "name": "stdout",
     "output_type": "stream",
     "text": [
      "the dataframe is inserted\n"
     ]
    }
   ],
   "source": [
    "start = time.time()\n",
    "insert_into_table('dw.order_facts', ord_facts, conn)\n",
    "times['dw.order_facts'] = time.time() - start"
   ]
  },
  {
   "cell_type": "markdown",
   "id": "5eaf6e2c-6f83-412d-9af5-aac948709703",
   "metadata": {},
   "source": [
    "### Metrics"
   ]
  },
  {
   "cell_type": "code",
   "execution_count": 32,
   "id": "33789596-faca-4f38-88fb-5980254535ad",
   "metadata": {},
   "outputs": [
    {
     "name": "stdout",
     "output_type": "stream",
     "text": [
      "Rows count:  9994\n"
     ]
    },
    {
     "data": {
      "text/html": [
       "<div>\n",
       "<style scoped>\n",
       "    .dataframe tbody tr th:only-of-type {\n",
       "        vertical-align: middle;\n",
       "    }\n",
       "\n",
       "    .dataframe tbody tr th {\n",
       "        vertical-align: top;\n",
       "    }\n",
       "\n",
       "    .dataframe thead th {\n",
       "        text-align: right;\n",
       "    }\n",
       "</style>\n",
       "<table border=\"1\" class=\"dataframe\">\n",
       "  <thead>\n",
       "    <tr style=\"text-align: right;\">\n",
       "      <th></th>\n",
       "      <th>row_id</th>\n",
       "      <th>sales</th>\n",
       "      <th>quantity</th>\n",
       "      <th>discount</th>\n",
       "      <th>profit</th>\n",
       "    </tr>\n",
       "  </thead>\n",
       "  <tbody>\n",
       "    <tr>\n",
       "      <th>0</th>\n",
       "      <td>1</td>\n",
       "      <td>261.9600</td>\n",
       "      <td>2</td>\n",
       "      <td>0.00</td>\n",
       "      <td>41.9136</td>\n",
       "    </tr>\n",
       "    <tr>\n",
       "      <th>1</th>\n",
       "      <td>2</td>\n",
       "      <td>731.9400</td>\n",
       "      <td>3</td>\n",
       "      <td>0.00</td>\n",
       "      <td>219.5820</td>\n",
       "    </tr>\n",
       "    <tr>\n",
       "      <th>2</th>\n",
       "      <td>3</td>\n",
       "      <td>14.6200</td>\n",
       "      <td>2</td>\n",
       "      <td>0.00</td>\n",
       "      <td>6.8714</td>\n",
       "    </tr>\n",
       "    <tr>\n",
       "      <th>3</th>\n",
       "      <td>4</td>\n",
       "      <td>957.5775</td>\n",
       "      <td>5</td>\n",
       "      <td>0.45</td>\n",
       "      <td>-383.0310</td>\n",
       "    </tr>\n",
       "    <tr>\n",
       "      <th>4</th>\n",
       "      <td>5</td>\n",
       "      <td>22.3680</td>\n",
       "      <td>2</td>\n",
       "      <td>0.20</td>\n",
       "      <td>2.5164</td>\n",
       "    </tr>\n",
       "  </tbody>\n",
       "</table>\n",
       "</div>"
      ],
      "text/plain": [
       "   row_id     sales  quantity  discount    profit\n",
       "0       1  261.9600         2      0.00   41.9136\n",
       "1       2  731.9400         3      0.00  219.5820\n",
       "2       3   14.6200         2      0.00    6.8714\n",
       "3       4  957.5775         5      0.45 -383.0310\n",
       "4       5   22.3680         2      0.20    2.5164"
      ]
     },
     "execution_count": 32,
     "metadata": {},
     "output_type": "execute_result"
    }
   ],
   "source": [
    "metrics = data[['row_id', 'sales', 'quantity', 'discount', 'profit']]\n",
    "print(\"Rows count: \", len(metrics))\n",
    "counts['dw.metrics'] = len(metrics)\n",
    "metrics.head()"
   ]
  },
  {
   "cell_type": "code",
   "execution_count": 33,
   "id": "6099a9d6-d98b-4741-b1ef-379bd7e1a8d0",
   "metadata": {},
   "outputs": [
    {
     "name": "stdout",
     "output_type": "stream",
     "text": [
      "the dataframe is inserted\n"
     ]
    }
   ],
   "source": [
    "start = time.time()\n",
    "insert_into_table('dw.metrics', metrics, conn)\n",
    "times['dw.metrics'] = time.time() - start"
   ]
  },
  {
   "cell_type": "code",
   "execution_count": 39,
   "id": "e174a5c2-1784-4be0-a9d7-01bc3017b09e",
   "metadata": {},
   "outputs": [],
   "source": [
    "import seaborn as sns\n",
    "import matplotlib.pyplot as plt"
   ]
  },
  {
   "cell_type": "code",
   "execution_count": 95,
   "id": "d9fb157a-6cd6-40c3-ac1d-1d8841306a6a",
   "metadata": {},
   "outputs": [
    {
     "data": {
      "text/html": [
       "<div>\n",
       "<style scoped>\n",
       "    .dataframe tbody tr th:only-of-type {\n",
       "        vertical-align: middle;\n",
       "    }\n",
       "\n",
       "    .dataframe tbody tr th {\n",
       "        vertical-align: top;\n",
       "    }\n",
       "\n",
       "    .dataframe thead th {\n",
       "        text-align: right;\n",
       "    }\n",
       "</style>\n",
       "<table border=\"1\" class=\"dataframe\">\n",
       "  <thead>\n",
       "    <tr style=\"text-align: right;\">\n",
       "      <th></th>\n",
       "      <th>table</th>\n",
       "      <th>time</th>\n",
       "      <th>count</th>\n",
       "    </tr>\n",
       "  </thead>\n",
       "  <tbody>\n",
       "    <tr>\n",
       "      <th>0</th>\n",
       "      <td>dw.regions</td>\n",
       "      <td>0.012001</td>\n",
       "      <td>4</td>\n",
       "    </tr>\n",
       "    <tr>\n",
       "      <th>1</th>\n",
       "      <td>dw.geography</td>\n",
       "      <td>0.048961</td>\n",
       "      <td>632</td>\n",
       "    </tr>\n",
       "    <tr>\n",
       "      <th>2</th>\n",
       "      <td>dw.products</td>\n",
       "      <td>0.084995</td>\n",
       "      <td>1894</td>\n",
       "    </tr>\n",
       "    <tr>\n",
       "      <th>3</th>\n",
       "      <td>dw.orders</td>\n",
       "      <td>0.190243</td>\n",
       "      <td>5009</td>\n",
       "    </tr>\n",
       "    <tr>\n",
       "      <th>4</th>\n",
       "      <td>dw.shipping</td>\n",
       "      <td>0.239825</td>\n",
       "      <td>5009</td>\n",
       "    </tr>\n",
       "    <tr>\n",
       "      <th>5</th>\n",
       "      <td>dw.order_facts</td>\n",
       "      <td>0.292799</td>\n",
       "      <td>9994</td>\n",
       "    </tr>\n",
       "    <tr>\n",
       "      <th>6</th>\n",
       "      <td>dw.metrics</td>\n",
       "      <td>0.542693</td>\n",
       "      <td>9994</td>\n",
       "    </tr>\n",
       "  </tbody>\n",
       "</table>\n",
       "</div>"
      ],
      "text/plain": [
       "            table      time  count\n",
       "0      dw.regions  0.012001      4\n",
       "1    dw.geography  0.048961    632\n",
       "2     dw.products  0.084995   1894\n",
       "3       dw.orders  0.190243   5009\n",
       "4     dw.shipping  0.239825   5009\n",
       "5  dw.order_facts  0.292799   9994\n",
       "6      dw.metrics  0.542693   9994"
      ]
     },
     "execution_count": 95,
     "metadata": {},
     "output_type": "execute_result"
    }
   ],
   "source": [
    "df = pd.DataFrame.from_dict(times, orient='index', columns=['time'])\n",
    "df['count'] = pd.Series(amounts)\n",
    "df = df.reset_index(names=['table'])\n",
    "df"
   ]
  },
  {
   "cell_type": "code",
   "execution_count": 103,
   "id": "7aab9c19-ac9b-406f-af90-4879c69bca93",
   "metadata": {},
   "outputs": [],
   "source": [
    "df = df.melt(id_vars='table')"
   ]
  },
  {
   "cell_type": "code",
   "execution_count": 109,
   "id": "53a3f171-f392-4170-bbbd-2570135ba57f",
   "metadata": {},
   "outputs": [
    {
     "data": {
      "text/html": [
       "<div>\n",
       "<style scoped>\n",
       "    .dataframe tbody tr th:only-of-type {\n",
       "        vertical-align: middle;\n",
       "    }\n",
       "\n",
       "    .dataframe tbody tr th {\n",
       "        vertical-align: top;\n",
       "    }\n",
       "\n",
       "    .dataframe thead th {\n",
       "        text-align: right;\n",
       "    }\n",
       "</style>\n",
       "<table border=\"1\" class=\"dataframe\">\n",
       "  <thead>\n",
       "    <tr style=\"text-align: right;\">\n",
       "      <th></th>\n",
       "      <th>table</th>\n",
       "      <th>variable</th>\n",
       "      <th>value</th>\n",
       "    </tr>\n",
       "  </thead>\n",
       "  <tbody>\n",
       "    <tr>\n",
       "      <th>0</th>\n",
       "      <td>dw.regions</td>\n",
       "      <td>time</td>\n",
       "      <td>0.012001</td>\n",
       "    </tr>\n",
       "    <tr>\n",
       "      <th>1</th>\n",
       "      <td>dw.geography</td>\n",
       "      <td>time</td>\n",
       "      <td>0.048961</td>\n",
       "    </tr>\n",
       "    <tr>\n",
       "      <th>2</th>\n",
       "      <td>dw.products</td>\n",
       "      <td>time</td>\n",
       "      <td>0.084995</td>\n",
       "    </tr>\n",
       "    <tr>\n",
       "      <th>3</th>\n",
       "      <td>dw.orders</td>\n",
       "      <td>time</td>\n",
       "      <td>0.190243</td>\n",
       "    </tr>\n",
       "    <tr>\n",
       "      <th>4</th>\n",
       "      <td>dw.shipping</td>\n",
       "      <td>time</td>\n",
       "      <td>0.239825</td>\n",
       "    </tr>\n",
       "    <tr>\n",
       "      <th>5</th>\n",
       "      <td>dw.order_facts</td>\n",
       "      <td>time</td>\n",
       "      <td>0.292799</td>\n",
       "    </tr>\n",
       "    <tr>\n",
       "      <th>6</th>\n",
       "      <td>dw.metrics</td>\n",
       "      <td>time</td>\n",
       "      <td>0.542693</td>\n",
       "    </tr>\n",
       "    <tr>\n",
       "      <th>7</th>\n",
       "      <td>dw.regions</td>\n",
       "      <td>count</td>\n",
       "      <td>4.000000</td>\n",
       "    </tr>\n",
       "    <tr>\n",
       "      <th>8</th>\n",
       "      <td>dw.geography</td>\n",
       "      <td>count</td>\n",
       "      <td>632.000000</td>\n",
       "    </tr>\n",
       "    <tr>\n",
       "      <th>9</th>\n",
       "      <td>dw.products</td>\n",
       "      <td>count</td>\n",
       "      <td>1894.000000</td>\n",
       "    </tr>\n",
       "    <tr>\n",
       "      <th>10</th>\n",
       "      <td>dw.orders</td>\n",
       "      <td>count</td>\n",
       "      <td>5009.000000</td>\n",
       "    </tr>\n",
       "    <tr>\n",
       "      <th>11</th>\n",
       "      <td>dw.shipping</td>\n",
       "      <td>count</td>\n",
       "      <td>5009.000000</td>\n",
       "    </tr>\n",
       "    <tr>\n",
       "      <th>12</th>\n",
       "      <td>dw.order_facts</td>\n",
       "      <td>count</td>\n",
       "      <td>9994.000000</td>\n",
       "    </tr>\n",
       "    <tr>\n",
       "      <th>13</th>\n",
       "      <td>dw.metrics</td>\n",
       "      <td>count</td>\n",
       "      <td>9994.000000</td>\n",
       "    </tr>\n",
       "  </tbody>\n",
       "</table>\n",
       "</div>"
      ],
      "text/plain": [
       "             table variable        value\n",
       "0       dw.regions     time     0.012001\n",
       "1     dw.geography     time     0.048961\n",
       "2      dw.products     time     0.084995\n",
       "3        dw.orders     time     0.190243\n",
       "4      dw.shipping     time     0.239825\n",
       "5   dw.order_facts     time     0.292799\n",
       "6       dw.metrics     time     0.542693\n",
       "7       dw.regions    count     4.000000\n",
       "8     dw.geography    count   632.000000\n",
       "9      dw.products    count  1894.000000\n",
       "10       dw.orders    count  5009.000000\n",
       "11     dw.shipping    count  5009.000000\n",
       "12  dw.order_facts    count  9994.000000\n",
       "13      dw.metrics    count  9994.000000"
      ]
     },
     "execution_count": 109,
     "metadata": {},
     "output_type": "execute_result"
    }
   ],
   "source": [
    "df"
   ]
  },
  {
   "cell_type": "code",
   "execution_count": 107,
   "id": "1b4e588e-a05f-47af-a791-3fbb5c3e29c3",
   "metadata": {},
   "outputs": [],
   "source": [
    "import numpy as np"
   ]
  },
  {
   "cell_type": "code",
   "execution_count": 111,
   "id": "a2e19d02-f241-424c-98b2-ac8b4bc20978",
   "metadata": {},
   "outputs": [
    {
     "name": "stderr",
     "output_type": "stream",
     "text": [
      "C:\\Users\\space\\AppData\\Local\\Temp\\ipykernel_520\\821575975.py:17: UserWarning: FixedFormatter should only be used together with FixedLocator\n",
      "  ax2.set_yticklabels(np.round(ax1.get_yticks()/scale,1))\n"
     ]
    },
    {
     "data": {
      "image/png": "[encoded data removed]",
      "text/plain": [
       "<Figure size 640x480 with 2 Axes>"
      ]
     },
     "metadata": {},
     "output_type": "display_data"
    }
   ],
   "source": [
    "mask = df.variable.isin(['time'])\n",
    "scale = int(df[~mask].value.mean()\n",
    "            /df[mask].value.mean())\n",
    "df.loc[mask, 'value'] = df.loc[mask, 'value']*scale\n",
    "\n",
    "\n",
    "fig, ax1 = plt.subplots()\n",
    "g = sns.barplot(x='table', y=\"value\", hue=\"variable\",\\\n",
    "                data=df, ax=ax1)\n",
    "\n",
    "# Create a second y-axis with the scaled ticks\n",
    "ax1.set_ylabel('X and Y')\n",
    "ax2 = ax1.twinx()\n",
    "\n",
    "# Ensure ticks occur at the same positions, then modify labels\n",
    "ax2.set_ylim(ax1.get_ylim())\n",
    "ax2.set_yticklabels(np.round(ax1.get_yticks()/scale,1))\n",
    "ax2.set_ylabel('A and B')\n",
    "\n",
    "plt.show()"
   ]
  },
  {
   "cell_type": "code",
   "execution_count": 35,
   "id": "261e86c6-3a6d-42bf-a685-156f6822f29c",
   "metadata": {},
   "outputs": [
    {
     "data": {
      "text/plain": [
       "{'dw.regions': 0.012001276016235352,\n",
       " 'dw.geography': 0.04896116256713867,\n",
       " 'dw.products': 0.08499526977539062,\n",
       " 'dw.orders': 0.19024276733398438,\n",
       " 'dw.shipping': 0.23982477188110352,\n",
       " 'dw.order_facts': 0.2927985191345215,\n",
       " 'dw.metrics': 0.5426931381225586}"
      ]
     },
     "execution_count": 35,
     "metadata": {},
     "output_type": "execute_result"
    }
   ],
   "source": [
    "times"
   ]
  },
  {
   "cell_type": "code",
   "execution_count": 36,
   "id": "ccbef4f3-95b6-48e2-96b7-a548509908d6",
   "metadata": {},
   "outputs": [
    {
     "data": {
      "text/plain": [
       "{'dw.customers': 793,\n",
       " 'dw.regions': 4,\n",
       " 'dw.geography': 632,\n",
       " 'dw.products': 1894,\n",
       " 'dw.orders': 5009,\n",
       " 'dw.shipping': 5009,\n",
       " 'dw.order_facts': 9994,\n",
       " 'dw.metrics': 9994}"
      ]
     },
     "execution_count": 36,
     "metadata": {},
     "output_type": "execute_result"
    }
   ],
   "source": [
    "amounts"
   ]
  },
  {
   "cell_type": "code",
   "execution_count": null,
   "id": "70e34184-3c29-44a7-8927-46b49f60c9fb",
   "metadata": {},
   "outputs": [],
   "source": []
  }
 ],
 "metadata": {
  "kernelspec": {
   "display_name": "Python 3 (ipykernel)",
   "language": "python",
   "name": "python3"
  },
  "language_info": {
   "codemirror_mode": {
    "name": "ipython",
    "version": 3
   },
   "file_extension": ".py",
   "mimetype": "text/x-python",
   "name": "python",
   "nbconvert_exporter": "python",
   "pygments_lexer": "ipython3",
   "version": "3.11.5"
  }
 },
 "nbformat": 4,
 "nbformat_minor": 5
}
