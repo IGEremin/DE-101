{
 "cells": [
  {
   "cell_type": "code",
   "execution_count": 1,
   "id": "501a1f5d",
   "metadata": {},
   "outputs": [],
   "source": [
    "import time\n",
    "import pandas as pd\n",
    "import psycopg2 as pg2\n",
    "import psycopg2.extras as extras"
   ]
  },
  {
   "cell_type": "code",
   "execution_count": 2,
   "id": "0f85dfd6-97f5-4348-af57-78ceef9457d1",
   "metadata": {},
   "outputs": [],
   "source": [
    "def execute_query(path:str, conn:pg2.connect):\n",
    "    with conn.cursor() as cursor:\n",
    "        with open(path, 'r') as f:\n",
    "            try:\n",
    "                cursor.execute(f.read())\n",
    "                conn.commit()\n",
    "            except (Exception, pg2.DatabaseError) as error:\n",
    "                print(\"Error: %s\" % error)\n",
    "                conn.rollback()\n",
    "                return\n",
    "    print('Query executed successfully')"
   ]
  },
  {
   "cell_type": "code",
   "execution_count": 3,
   "id": "793f9e0e-39a3-4552-ae1f-89fc462beeb7",
   "metadata": {},
   "outputs": [],
   "source": [
    "def insert_into_table(table:str, data:pd.DataFrame, conn:pg2.connect):\n",
    "    query = \"INSERT INTO %s(%s) VALUES %%s\" % (table, ','.join([f'\"{col}\"' for col in data.columns]))\n",
    "    with conn.cursor() as cursor:\n",
    "        try:\n",
    "            extras.execute_values(cursor, query, data.values)\n",
    "            conn.commit()\n",
    "        except (Exception, pg2.DatabaseError) as error:\n",
    "            print(\"Error: %s\" % error)\n",
    "            conn.rollback()\n",
    "            return\n",
    "        print(\"Inserted {} rows into {}\".format(len(data), table))"
   ]
  },
  {
   "cell_type": "code",
   "execution_count": 4,
   "id": "a1110567-c817-403f-b0d8-8832e4a1001e",
   "metadata": {},
   "outputs": [],
   "source": [
    "def select_from_table(table:str, columns:list, conn:pg2.connect):\n",
    "    query = \"SELECT %s FROM %s\" % (','.join(columns), table)\n",
    "    with conn.cursor() as cursor:\n",
    "        try:\n",
    "            cursor.execute(query)\n",
    "            conn.commit()\n",
    "            return pd.DataFrame(cursor.fetchall(), columns=columns)\n",
    "        except (Exception, pg2.DatabaseError) as error:\n",
    "            print(\"Error: %s\" % error)\n",
    "            conn.rollback()\n",
    "            return"
   ]
  },
  {
   "cell_type": "markdown",
   "id": "74aeccb4-8931-46d7-9c48-571f18000d5d",
   "metadata": {},
   "source": [
    "# Load and explore Excel table"
   ]
  },
  {
   "cell_type": "code",
   "execution_count": 5,
   "id": "a5566791",
   "metadata": {},
   "outputs": [
    {
     "name": "stderr",
     "output_type": "stream",
     "text": [
      "C:\\Users\\space\\AppData\\Local\\Programs\\Python\\Python311\\Lib\\site-packages\\openpyxl\\worksheet\\header_footer.py:48: UserWarning: Cannot parse header or footer so it will be ignored\n",
      "  warn(\"\"\"Cannot parse header or footer so it will be ignored\"\"\")\n"
     ]
    }
   ],
   "source": [
    "data = pd.read_excel(\n",
    "    'Sample - Superstore.xlsx', \n",
    "    parse_dates=['Order Date', 'Ship Date'], \n",
    "    dtype={'Postal Code': str}\n",
    ")"
   ]
  },
  {
   "cell_type": "code",
   "execution_count": 6,
   "id": "8f47d6f1",
   "metadata": {},
   "outputs": [
    {
     "name": "stdout",
     "output_type": "stream",
     "text": [
      "<class 'pandas.core.frame.DataFrame'>\n",
      "RangeIndex: 9994 entries, 0 to 9993\n",
      "Data columns (total 23 columns):\n",
      " #   Column         Non-Null Count  Dtype         \n",
      "---  ------         --------------  -----         \n",
      " 0   Row ID         9994 non-null   int64         \n",
      " 1   Order ID       9994 non-null   object        \n",
      " 2   Order Date     9994 non-null   datetime64[ns]\n",
      " 3   Ship Date      9994 non-null   datetime64[ns]\n",
      " 4   Ship Mode      9994 non-null   object        \n",
      " 5   Customer ID    9994 non-null   object        \n",
      " 6   Customer Name  9994 non-null   object        \n",
      " 7   Segment        9994 non-null   object        \n",
      " 8   Country        9994 non-null   object        \n",
      " 9   City           9994 non-null   object        \n",
      " 10  State          9994 non-null   object        \n",
      " 11  Postal Code    9983 non-null   object        \n",
      " 12  Region         9994 non-null   object        \n",
      " 13  Product ID     9994 non-null   object        \n",
      " 14  Category       9994 non-null   object        \n",
      " 15  Sub-Category   9994 non-null   object        \n",
      " 16  Product Name   9994 non-null   object        \n",
      " 17  Sales          9994 non-null   float64       \n",
      " 18  Quantity       9994 non-null   int64         \n",
      " 19  Discount       9994 non-null   float64       \n",
      " 20  Profit         9994 non-null   float64       \n",
      " 21  Person         9994 non-null   object        \n",
      " 22  Returned       9994 non-null   object        \n",
      "dtypes: datetime64[ns](2), float64(3), int64(2), object(16)\n",
      "memory usage: 1.8+ MB\n"
     ]
    },
    {
     "data": {
      "text/html": [
       "<div>\n",
       "<style scoped>\n",
       "    .dataframe tbody tr th:only-of-type {\n",
       "        vertical-align: middle;\n",
       "    }\n",
       "\n",
       "    .dataframe tbody tr th {\n",
       "        vertical-align: top;\n",
       "    }\n",
       "\n",
       "    .dataframe thead th {\n",
       "        text-align: right;\n",
       "    }\n",
       "</style>\n",
       "<table border=\"1\" class=\"dataframe\">\n",
       "  <thead>\n",
       "    <tr style=\"text-align: right;\">\n",
       "      <th></th>\n",
       "      <th>Row ID</th>\n",
       "      <th>Order ID</th>\n",
       "      <th>Order Date</th>\n",
       "      <th>Ship Date</th>\n",
       "      <th>Ship Mode</th>\n",
       "      <th>Customer ID</th>\n",
       "      <th>Customer Name</th>\n",
       "      <th>Segment</th>\n",
       "      <th>Country</th>\n",
       "      <th>City</th>\n",
       "      <th>...</th>\n",
       "      <th>Product ID</th>\n",
       "      <th>Category</th>\n",
       "      <th>Sub-Category</th>\n",
       "      <th>Product Name</th>\n",
       "      <th>Sales</th>\n",
       "      <th>Quantity</th>\n",
       "      <th>Discount</th>\n",
       "      <th>Profit</th>\n",
       "      <th>Person</th>\n",
       "      <th>Returned</th>\n",
       "    </tr>\n",
       "  </thead>\n",
       "  <tbody>\n",
       "    <tr>\n",
       "      <th>0</th>\n",
       "      <td>1</td>\n",
       "      <td>CA-2018-152156</td>\n",
       "      <td>2018-11-08</td>\n",
       "      <td>2018-11-11</td>\n",
       "      <td>Second Class</td>\n",
       "      <td>CG-12520</td>\n",
       "      <td>Claire Gute</td>\n",
       "      <td>Consumer</td>\n",
       "      <td>United States</td>\n",
       "      <td>Henderson</td>\n",
       "      <td>...</td>\n",
       "      <td>FUR-BO-10001798</td>\n",
       "      <td>Furniture</td>\n",
       "      <td>Bookcases</td>\n",
       "      <td>Bush Somerset Collection Bookcase</td>\n",
       "      <td>261.9600</td>\n",
       "      <td>2</td>\n",
       "      <td>0.00</td>\n",
       "      <td>41.9136</td>\n",
       "      <td>Cassandra Brandow</td>\n",
       "      <td>No</td>\n",
       "    </tr>\n",
       "    <tr>\n",
       "      <th>1</th>\n",
       "      <td>2</td>\n",
       "      <td>CA-2018-152156</td>\n",
       "      <td>2018-11-08</td>\n",
       "      <td>2018-11-11</td>\n",
       "      <td>Second Class</td>\n",
       "      <td>CG-12520</td>\n",
       "      <td>Claire Gute</td>\n",
       "      <td>Consumer</td>\n",
       "      <td>United States</td>\n",
       "      <td>Henderson</td>\n",
       "      <td>...</td>\n",
       "      <td>FUR-CH-10000454</td>\n",
       "      <td>Furniture</td>\n",
       "      <td>Chairs</td>\n",
       "      <td>Hon Deluxe Fabric Upholstered Stacking Chairs,...</td>\n",
       "      <td>731.9400</td>\n",
       "      <td>3</td>\n",
       "      <td>0.00</td>\n",
       "      <td>219.5820</td>\n",
       "      <td>Cassandra Brandow</td>\n",
       "      <td>No</td>\n",
       "    </tr>\n",
       "    <tr>\n",
       "      <th>2</th>\n",
       "      <td>3</td>\n",
       "      <td>CA-2018-138688</td>\n",
       "      <td>2018-06-12</td>\n",
       "      <td>2018-06-16</td>\n",
       "      <td>Second Class</td>\n",
       "      <td>DV-13045</td>\n",
       "      <td>Darrin Van Huff</td>\n",
       "      <td>Corporate</td>\n",
       "      <td>United States</td>\n",
       "      <td>Los Angeles</td>\n",
       "      <td>...</td>\n",
       "      <td>OFF-LA-10000240</td>\n",
       "      <td>Office Supplies</td>\n",
       "      <td>Labels</td>\n",
       "      <td>Self-Adhesive Address Labels for Typewriters b...</td>\n",
       "      <td>14.6200</td>\n",
       "      <td>2</td>\n",
       "      <td>0.00</td>\n",
       "      <td>6.8714</td>\n",
       "      <td>Anna Andreadi</td>\n",
       "      <td>No</td>\n",
       "    </tr>\n",
       "    <tr>\n",
       "      <th>3</th>\n",
       "      <td>4</td>\n",
       "      <td>US-2017-108966</td>\n",
       "      <td>2017-10-11</td>\n",
       "      <td>2017-10-18</td>\n",
       "      <td>Standard Class</td>\n",
       "      <td>SO-20335</td>\n",
       "      <td>Sean O'Donnell</td>\n",
       "      <td>Consumer</td>\n",
       "      <td>United States</td>\n",
       "      <td>Fort Lauderdale</td>\n",
       "      <td>...</td>\n",
       "      <td>FUR-TA-10000577</td>\n",
       "      <td>Furniture</td>\n",
       "      <td>Tables</td>\n",
       "      <td>Bretford CR4500 Series Slim Rectangular Table</td>\n",
       "      <td>957.5775</td>\n",
       "      <td>5</td>\n",
       "      <td>0.45</td>\n",
       "      <td>-383.0310</td>\n",
       "      <td>Cassandra Brandow</td>\n",
       "      <td>No</td>\n",
       "    </tr>\n",
       "    <tr>\n",
       "      <th>4</th>\n",
       "      <td>5</td>\n",
       "      <td>US-2017-108966</td>\n",
       "      <td>2017-10-11</td>\n",
       "      <td>2017-10-18</td>\n",
       "      <td>Standard Class</td>\n",
       "      <td>SO-20335</td>\n",
       "      <td>Sean O'Donnell</td>\n",
       "      <td>Consumer</td>\n",
       "      <td>United States</td>\n",
       "      <td>Fort Lauderdale</td>\n",
       "      <td>...</td>\n",
       "      <td>OFF-ST-10000760</td>\n",
       "      <td>Office Supplies</td>\n",
       "      <td>Storage</td>\n",
       "      <td>Eldon Fold 'N Roll Cart System</td>\n",
       "      <td>22.3680</td>\n",
       "      <td>2</td>\n",
       "      <td>0.20</td>\n",
       "      <td>2.5164</td>\n",
       "      <td>Cassandra Brandow</td>\n",
       "      <td>No</td>\n",
       "    </tr>\n",
       "  </tbody>\n",
       "</table>\n",
       "<p>5 rows × 23 columns</p>\n",
       "</div>"
      ],
      "text/plain": [
       "   Row ID        Order ID Order Date  Ship Date       Ship Mode Customer ID  \\\n",
       "0       1  CA-2018-152156 2018-11-08 2018-11-11    Second Class    CG-12520   \n",
       "1       2  CA-2018-152156 2018-11-08 2018-11-11    Second Class    CG-12520   \n",
       "2       3  CA-2018-138688 2018-06-12 2018-06-16    Second Class    DV-13045   \n",
       "3       4  US-2017-108966 2017-10-11 2017-10-18  Standard Class    SO-20335   \n",
       "4       5  US-2017-108966 2017-10-11 2017-10-18  Standard Class    SO-20335   \n",
       "\n",
       "     Customer Name    Segment        Country             City  ...  \\\n",
       "0      Claire Gute   Consumer  United States        Henderson  ...   \n",
       "1      Claire Gute   Consumer  United States        Henderson  ...   \n",
       "2  Darrin Van Huff  Corporate  United States      Los Angeles  ...   \n",
       "3   Sean O'Donnell   Consumer  United States  Fort Lauderdale  ...   \n",
       "4   Sean O'Donnell   Consumer  United States  Fort Lauderdale  ...   \n",
       "\n",
       "        Product ID         Category Sub-Category  \\\n",
       "0  FUR-BO-10001798        Furniture    Bookcases   \n",
       "1  FUR-CH-10000454        Furniture       Chairs   \n",
       "2  OFF-LA-10000240  Office Supplies       Labels   \n",
       "3  FUR-TA-10000577        Furniture       Tables   \n",
       "4  OFF-ST-10000760  Office Supplies      Storage   \n",
       "\n",
       "                                        Product Name     Sales Quantity  \\\n",
       "0                  Bush Somerset Collection Bookcase  261.9600        2   \n",
       "1  Hon Deluxe Fabric Upholstered Stacking Chairs,...  731.9400        3   \n",
       "2  Self-Adhesive Address Labels for Typewriters b...   14.6200        2   \n",
       "3      Bretford CR4500 Series Slim Rectangular Table  957.5775        5   \n",
       "4                     Eldon Fold 'N Roll Cart System   22.3680        2   \n",
       "\n",
       "  Discount    Profit             Person  Returned  \n",
       "0     0.00   41.9136  Cassandra Brandow        No  \n",
       "1     0.00  219.5820  Cassandra Brandow        No  \n",
       "2     0.00    6.8714      Anna Andreadi        No  \n",
       "3     0.45 -383.0310  Cassandra Brandow        No  \n",
       "4     0.20    2.5164  Cassandra Brandow        No  \n",
       "\n",
       "[5 rows x 23 columns]"
      ]
     },
     "execution_count": 6,
     "metadata": {},
     "output_type": "execute_result"
    }
   ],
   "source": [
    "data.info()\n",
    "data.head()"
   ]
  },
  {
   "cell_type": "code",
   "execution_count": 7,
   "id": "77113846-b0c3-424a-9dd0-281fbae81322",
   "metadata": {},
   "outputs": [
    {
     "data": {
      "text/html": [
       "<div>\n",
       "<style scoped>\n",
       "    .dataframe tbody tr th:only-of-type {\n",
       "        vertical-align: middle;\n",
       "    }\n",
       "\n",
       "    .dataframe tbody tr th {\n",
       "        vertical-align: top;\n",
       "    }\n",
       "\n",
       "    .dataframe thead th {\n",
       "        text-align: right;\n",
       "    }\n",
       "</style>\n",
       "<table border=\"1\" class=\"dataframe\">\n",
       "  <thead>\n",
       "    <tr style=\"text-align: right;\">\n",
       "      <th></th>\n",
       "      <th>State</th>\n",
       "      <th>City</th>\n",
       "      <th>Postal Code</th>\n",
       "    </tr>\n",
       "  </thead>\n",
       "  <tbody>\n",
       "    <tr>\n",
       "      <th>2234</th>\n",
       "      <td>Vermont</td>\n",
       "      <td>Burlington</td>\n",
       "      <td>NaN</td>\n",
       "    </tr>\n",
       "  </tbody>\n",
       "</table>\n",
       "</div>"
      ],
      "text/plain": [
       "        State        City Postal Code\n",
       "2234  Vermont  Burlington         NaN"
      ]
     },
     "execution_count": 7,
     "metadata": {},
     "output_type": "execute_result"
    }
   ],
   "source": [
    "data[data['Postal Code'].isna()][['State', 'City', 'Postal Code']].drop_duplicates()"
   ]
  },
  {
   "cell_type": "code",
   "execution_count": 8,
   "id": "fd53f26b-ebd1-4336-9d08-82b1cc9b25b4",
   "metadata": {},
   "outputs": [],
   "source": [
    "data['Postal Code'] = data['Postal Code'].fillna('05401')"
   ]
  },
  {
   "cell_type": "markdown",
   "id": "3fb8b72d-7e8a-4853-b5c3-2e3091735e1e",
   "metadata": {},
   "source": [
    "# Connection to PostgreSQL and insertion data to database"
   ]
  },
  {
   "cell_type": "code",
   "execution_count": 9,
   "id": "93db9a07",
   "metadata": {},
   "outputs": [],
   "source": [
    "conn = pg2.connect(host='ls-df11e1cd190cf4b7aee7a0eb1512dbda0ae0780f.clldgu4cdaby.eu-central-1.rds.amazonaws.com', \n",
    "                   dbname='dbpostgres', \n",
    "                   user='postgres',\n",
    "                   password='13154200')\n",
    "conn.set_session(autocommit=True)"
   ]
  },
  {
   "cell_type": "code",
   "execution_count": 10,
   "id": "94ea2763-f2de-4127-a6c7-25b3371dc282",
   "metadata": {},
   "outputs": [
    {
     "name": "stdout",
     "output_type": "stream",
     "text": [
      "Query executed successfully\n"
     ]
    }
   ],
   "source": [
    "execute_query('queries/create_stg.sql', conn)"
   ]
  },
  {
   "cell_type": "code",
   "execution_count": 11,
   "id": "b766d02a-ea98-45ed-b41b-88b47a62bbea",
   "metadata": {},
   "outputs": [
    {
     "name": "stdout",
     "output_type": "stream",
     "text": [
      "Inserted 9994 rows into stg.orders\n"
     ]
    }
   ],
   "source": [
    "insert_into_table(\"stg.orders\", data, conn)"
   ]
  },
  {
   "cell_type": "code",
   "execution_count": 12,
   "id": "b07d53dc-05b6-4cc0-b67b-06dd5e106a39",
   "metadata": {},
   "outputs": [],
   "source": [
    "data.columns = [col.lower().replace(' ', '_').replace('-', '_') for col in data.columns]"
   ]
  },
  {
   "cell_type": "markdown",
   "id": "03681b2d-5751-4541-9060-1c62d46d10ce",
   "metadata": {},
   "source": [
    "### Customers"
   ]
  },
  {
   "cell_type": "code",
   "execution_count": 13,
   "id": "308b304d-9bc8-47ee-962c-8e27b15e72a5",
   "metadata": {},
   "outputs": [
    {
     "name": "stdout",
     "output_type": "stream",
     "text": [
      "Query executed successfully\n"
     ]
    }
   ],
   "source": [
    "execute_query('queries/create_dw.sql', conn)"
   ]
  },
  {
   "cell_type": "code",
   "execution_count": 14,
   "id": "e878e9ff-e626-44e4-90bd-b99f6e6b190a",
   "metadata": {},
   "outputs": [
    {
     "data": {
      "text/html": [
       "<div>\n",
       "<style scoped>\n",
       "    .dataframe tbody tr th:only-of-type {\n",
       "        vertical-align: middle;\n",
       "    }\n",
       "\n",
       "    .dataframe tbody tr th {\n",
       "        vertical-align: top;\n",
       "    }\n",
       "\n",
       "    .dataframe thead th {\n",
       "        text-align: right;\n",
       "    }\n",
       "</style>\n",
       "<table border=\"1\" class=\"dataframe\">\n",
       "  <thead>\n",
       "    <tr style=\"text-align: right;\">\n",
       "      <th></th>\n",
       "      <th>customer_id</th>\n",
       "      <th>customer_name</th>\n",
       "      <th>segment</th>\n",
       "    </tr>\n",
       "  </thead>\n",
       "  <tbody>\n",
       "    <tr>\n",
       "      <th>0</th>\n",
       "      <td>CG-12520</td>\n",
       "      <td>Claire Gute</td>\n",
       "      <td>Consumer</td>\n",
       "    </tr>\n",
       "    <tr>\n",
       "      <th>2</th>\n",
       "      <td>DV-13045</td>\n",
       "      <td>Darrin Van Huff</td>\n",
       "      <td>Corporate</td>\n",
       "    </tr>\n",
       "    <tr>\n",
       "      <th>3</th>\n",
       "      <td>SO-20335</td>\n",
       "      <td>Sean O'Donnell</td>\n",
       "      <td>Consumer</td>\n",
       "    </tr>\n",
       "    <tr>\n",
       "      <th>5</th>\n",
       "      <td>BH-11710</td>\n",
       "      <td>Brosina Hoffman</td>\n",
       "      <td>Consumer</td>\n",
       "    </tr>\n",
       "    <tr>\n",
       "      <th>12</th>\n",
       "      <td>AA-10480</td>\n",
       "      <td>Andrew Allen</td>\n",
       "      <td>Consumer</td>\n",
       "    </tr>\n",
       "  </tbody>\n",
       "</table>\n",
       "</div>"
      ],
      "text/plain": [
       "   customer_id    customer_name    segment\n",
       "0     CG-12520      Claire Gute   Consumer\n",
       "2     DV-13045  Darrin Van Huff  Corporate\n",
       "3     SO-20335   Sean O'Donnell   Consumer\n",
       "5     BH-11710  Brosina Hoffman   Consumer\n",
       "12    AA-10480     Andrew Allen   Consumer"
      ]
     },
     "execution_count": 14,
     "metadata": {},
     "output_type": "execute_result"
    }
   ],
   "source": [
    "customers = data[['customer_id', 'customer_name', 'segment']].drop_duplicates()\n",
    "customers.head()"
   ]
  },
  {
   "cell_type": "code",
   "execution_count": 15,
   "id": "4950c8cb-b6c3-4f12-916c-e426e8ad1748",
   "metadata": {},
   "outputs": [
    {
     "name": "stdout",
     "output_type": "stream",
     "text": [
      "Inserted 793 rows into dw.customers\n"
     ]
    }
   ],
   "source": [
    "insert_into_table('dw.customers', customers, conn)"
   ]
  },
  {
   "cell_type": "markdown",
   "id": "2d8d472e-1a1f-4f53-9a3e-25328f5592cc",
   "metadata": {},
   "source": [
    "### Regions"
   ]
  },
  {
   "cell_type": "code",
   "execution_count": 16,
   "id": "0f4c5a3b",
   "metadata": {},
   "outputs": [
    {
     "data": {
      "text/html": [
       "<div>\n",
       "<style scoped>\n",
       "    .dataframe tbody tr th:only-of-type {\n",
       "        vertical-align: middle;\n",
       "    }\n",
       "\n",
       "    .dataframe tbody tr th {\n",
       "        vertical-align: top;\n",
       "    }\n",
       "\n",
       "    .dataframe thead th {\n",
       "        text-align: right;\n",
       "    }\n",
       "</style>\n",
       "<table border=\"1\" class=\"dataframe\">\n",
       "  <thead>\n",
       "    <tr style=\"text-align: right;\">\n",
       "      <th></th>\n",
       "      <th>region</th>\n",
       "      <th>person</th>\n",
       "    </tr>\n",
       "  </thead>\n",
       "  <tbody>\n",
       "    <tr>\n",
       "      <th>0</th>\n",
       "      <td>South</td>\n",
       "      <td>Cassandra Brandow</td>\n",
       "    </tr>\n",
       "    <tr>\n",
       "      <th>2</th>\n",
       "      <td>West</td>\n",
       "      <td>Anna Andreadi</td>\n",
       "    </tr>\n",
       "    <tr>\n",
       "      <th>14</th>\n",
       "      <td>Central</td>\n",
       "      <td>Kelly Williams</td>\n",
       "    </tr>\n",
       "    <tr>\n",
       "      <th>23</th>\n",
       "      <td>East</td>\n",
       "      <td>Chuck Magee</td>\n",
       "    </tr>\n",
       "  </tbody>\n",
       "</table>\n",
       "</div>"
      ],
      "text/plain": [
       "     region             person\n",
       "0     South  Cassandra Brandow\n",
       "2      West      Anna Andreadi\n",
       "14  Central     Kelly Williams\n",
       "23     East        Chuck Magee"
      ]
     },
     "execution_count": 16,
     "metadata": {},
     "output_type": "execute_result"
    }
   ],
   "source": [
    "regions = data[['region', 'person']].drop_duplicates()\n",
    "regions"
   ]
  },
  {
   "cell_type": "code",
   "execution_count": 17,
   "id": "5dca3ac7-26e7-498c-b792-a5560d184012",
   "metadata": {},
   "outputs": [
    {
     "name": "stdout",
     "output_type": "stream",
     "text": [
      "Inserted 4 rows into dw.regions\n"
     ]
    }
   ],
   "source": [
    "insert_into_table('dw.regions', regions, conn)"
   ]
  },
  {
   "cell_type": "markdown",
   "id": "850de4da-91ef-4a2f-a7cc-c6046e9649e6",
   "metadata": {},
   "source": [
    "### Geography"
   ]
  },
  {
   "cell_type": "code",
   "execution_count": 18,
   "id": "bae00813",
   "metadata": {},
   "outputs": [
    {
     "data": {
      "text/html": [
       "<div>\n",
       "<style scoped>\n",
       "    .dataframe tbody tr th:only-of-type {\n",
       "        vertical-align: middle;\n",
       "    }\n",
       "\n",
       "    .dataframe tbody tr th {\n",
       "        vertical-align: top;\n",
       "    }\n",
       "\n",
       "    .dataframe thead th {\n",
       "        text-align: right;\n",
       "    }\n",
       "</style>\n",
       "<table border=\"1\" class=\"dataframe\">\n",
       "  <thead>\n",
       "    <tr style=\"text-align: right;\">\n",
       "      <th></th>\n",
       "      <th>country</th>\n",
       "      <th>city</th>\n",
       "      <th>state</th>\n",
       "      <th>postal_code</th>\n",
       "      <th>region</th>\n",
       "    </tr>\n",
       "  </thead>\n",
       "  <tbody>\n",
       "    <tr>\n",
       "      <th>0</th>\n",
       "      <td>United States</td>\n",
       "      <td>Henderson</td>\n",
       "      <td>Kentucky</td>\n",
       "      <td>42420</td>\n",
       "      <td>South</td>\n",
       "    </tr>\n",
       "    <tr>\n",
       "      <th>1</th>\n",
       "      <td>United States</td>\n",
       "      <td>Los Angeles</td>\n",
       "      <td>California</td>\n",
       "      <td>90036</td>\n",
       "      <td>West</td>\n",
       "    </tr>\n",
       "    <tr>\n",
       "      <th>2</th>\n",
       "      <td>United States</td>\n",
       "      <td>Fort Lauderdale</td>\n",
       "      <td>Florida</td>\n",
       "      <td>33311</td>\n",
       "      <td>South</td>\n",
       "    </tr>\n",
       "    <tr>\n",
       "      <th>3</th>\n",
       "      <td>United States</td>\n",
       "      <td>Los Angeles</td>\n",
       "      <td>California</td>\n",
       "      <td>90032</td>\n",
       "      <td>West</td>\n",
       "    </tr>\n",
       "    <tr>\n",
       "      <th>4</th>\n",
       "      <td>United States</td>\n",
       "      <td>Concord</td>\n",
       "      <td>North Carolina</td>\n",
       "      <td>28027</td>\n",
       "      <td>South</td>\n",
       "    </tr>\n",
       "  </tbody>\n",
       "</table>\n",
       "</div>"
      ],
      "text/plain": [
       "         country             city           state postal_code region\n",
       "0  United States        Henderson        Kentucky       42420  South\n",
       "1  United States      Los Angeles      California       90036   West\n",
       "2  United States  Fort Lauderdale         Florida       33311  South\n",
       "3  United States      Los Angeles      California       90032   West\n",
       "4  United States          Concord  North Carolina       28027  South"
      ]
     },
     "execution_count": 18,
     "metadata": {},
     "output_type": "execute_result"
    }
   ],
   "source": [
    "geography = data[['country', 'city', 'state', 'postal_code', 'region']].drop_duplicates().reset_index(drop=True)\n",
    "geography.head()"
   ]
  },
  {
   "cell_type": "code",
   "execution_count": 19,
   "id": "03e38368",
   "metadata": {},
   "outputs": [
    {
     "data": {
      "text/html": [
       "<div>\n",
       "<style scoped>\n",
       "    .dataframe tbody tr th:only-of-type {\n",
       "        vertical-align: middle;\n",
       "    }\n",
       "\n",
       "    .dataframe tbody tr th {\n",
       "        vertical-align: top;\n",
       "    }\n",
       "\n",
       "    .dataframe thead th {\n",
       "        text-align: right;\n",
       "    }\n",
       "</style>\n",
       "<table border=\"1\" class=\"dataframe\">\n",
       "  <thead>\n",
       "    <tr style=\"text-align: right;\">\n",
       "      <th></th>\n",
       "      <th>region</th>\n",
       "      <th>region_uid</th>\n",
       "    </tr>\n",
       "  </thead>\n",
       "  <tbody>\n",
       "    <tr>\n",
       "      <th>0</th>\n",
       "      <td>South</td>\n",
       "      <td>1</td>\n",
       "    </tr>\n",
       "    <tr>\n",
       "      <th>2</th>\n",
       "      <td>West</td>\n",
       "      <td>2</td>\n",
       "    </tr>\n",
       "    <tr>\n",
       "      <th>14</th>\n",
       "      <td>Central</td>\n",
       "      <td>3</td>\n",
       "    </tr>\n",
       "    <tr>\n",
       "      <th>23</th>\n",
       "      <td>East</td>\n",
       "      <td>4</td>\n",
       "    </tr>\n",
       "  </tbody>\n",
       "</table>\n",
       "</div>"
      ],
      "text/plain": [
       "     region  region_uid\n",
       "0     South           1\n",
       "2      West           2\n",
       "14  Central           3\n",
       "23     East           4"
      ]
     },
     "execution_count": 19,
     "metadata": {},
     "output_type": "execute_result"
    }
   ],
   "source": [
    "regions_uid = regions[['region']]\n",
    "regions_uid['region_uid'] = range(1, regions_uid.shape[0]+1)\n",
    "regions_uid"
   ]
  },
  {
   "cell_type": "code",
   "execution_count": 20,
   "id": "b75333b7",
   "metadata": {},
   "outputs": [
    {
     "data": {
      "text/html": [
       "<div>\n",
       "<style scoped>\n",
       "    .dataframe tbody tr th:only-of-type {\n",
       "        vertical-align: middle;\n",
       "    }\n",
       "\n",
       "    .dataframe tbody tr th {\n",
       "        vertical-align: top;\n",
       "    }\n",
       "\n",
       "    .dataframe thead th {\n",
       "        text-align: right;\n",
       "    }\n",
       "</style>\n",
       "<table border=\"1\" class=\"dataframe\">\n",
       "  <thead>\n",
       "    <tr style=\"text-align: right;\">\n",
       "      <th></th>\n",
       "      <th>country</th>\n",
       "      <th>city</th>\n",
       "      <th>state</th>\n",
       "      <th>postal_code</th>\n",
       "      <th>region_uid</th>\n",
       "    </tr>\n",
       "  </thead>\n",
       "  <tbody>\n",
       "    <tr>\n",
       "      <th>0</th>\n",
       "      <td>United States</td>\n",
       "      <td>Henderson</td>\n",
       "      <td>Kentucky</td>\n",
       "      <td>42420</td>\n",
       "      <td>1</td>\n",
       "    </tr>\n",
       "    <tr>\n",
       "      <th>1</th>\n",
       "      <td>United States</td>\n",
       "      <td>Fort Lauderdale</td>\n",
       "      <td>Florida</td>\n",
       "      <td>33311</td>\n",
       "      <td>1</td>\n",
       "    </tr>\n",
       "    <tr>\n",
       "      <th>2</th>\n",
       "      <td>United States</td>\n",
       "      <td>Concord</td>\n",
       "      <td>North Carolina</td>\n",
       "      <td>28027</td>\n",
       "      <td>1</td>\n",
       "    </tr>\n",
       "    <tr>\n",
       "      <th>3</th>\n",
       "      <td>United States</td>\n",
       "      <td>Melbourne</td>\n",
       "      <td>Florida</td>\n",
       "      <td>32935</td>\n",
       "      <td>1</td>\n",
       "    </tr>\n",
       "    <tr>\n",
       "      <th>4</th>\n",
       "      <td>United States</td>\n",
       "      <td>Springfield</td>\n",
       "      <td>Virginia</td>\n",
       "      <td>22153</td>\n",
       "      <td>1</td>\n",
       "    </tr>\n",
       "  </tbody>\n",
       "</table>\n",
       "</div>"
      ],
      "text/plain": [
       "         country             city           state postal_code  region_uid\n",
       "0  United States        Henderson        Kentucky       42420           1\n",
       "1  United States  Fort Lauderdale         Florida       33311           1\n",
       "2  United States          Concord  North Carolina       28027           1\n",
       "3  United States        Melbourne         Florida       32935           1\n",
       "4  United States      Springfield        Virginia       22153           1"
      ]
     },
     "execution_count": 20,
     "metadata": {},
     "output_type": "execute_result"
    }
   ],
   "source": [
    "geography = geography.merge(regions_uid, on='region')\n",
    "geography = geography[geography.columns.drop('region')]\n",
    "geography.head()"
   ]
  },
  {
   "cell_type": "code",
   "execution_count": 21,
   "id": "e39c1db6-14c2-4a34-8d1a-6449dbfc68b8",
   "metadata": {},
   "outputs": [
    {
     "name": "stdout",
     "output_type": "stream",
     "text": [
      "Inserted 632 rows into dw.geography\n"
     ]
    }
   ],
   "source": [
    "insert_into_table('dw.geography', geography, conn)"
   ]
  },
  {
   "cell_type": "markdown",
   "id": "ed9a32c1-a659-47e3-a0a5-3d0590d1b154",
   "metadata": {},
   "source": [
    "### Products"
   ]
  },
  {
   "cell_type": "code",
   "execution_count": 22,
   "id": "6848d584-7e59-4e1c-b90d-2c076012d273",
   "metadata": {},
   "outputs": [
    {
     "data": {
      "text/html": [
       "<div>\n",
       "<style scoped>\n",
       "    .dataframe tbody tr th:only-of-type {\n",
       "        vertical-align: middle;\n",
       "    }\n",
       "\n",
       "    .dataframe tbody tr th {\n",
       "        vertical-align: top;\n",
       "    }\n",
       "\n",
       "    .dataframe thead th {\n",
       "        text-align: right;\n",
       "    }\n",
       "</style>\n",
       "<table border=\"1\" class=\"dataframe\">\n",
       "  <thead>\n",
       "    <tr style=\"text-align: right;\">\n",
       "      <th></th>\n",
       "      <th>product_id</th>\n",
       "      <th>product_name</th>\n",
       "      <th>category</th>\n",
       "      <th>sub_category</th>\n",
       "    </tr>\n",
       "  </thead>\n",
       "  <tbody>\n",
       "    <tr>\n",
       "      <th>0</th>\n",
       "      <td>FUR-BO-10001798</td>\n",
       "      <td>Bush Somerset Collection Bookcase</td>\n",
       "      <td>Furniture</td>\n",
       "      <td>Bookcases</td>\n",
       "    </tr>\n",
       "    <tr>\n",
       "      <th>1</th>\n",
       "      <td>FUR-CH-10000454</td>\n",
       "      <td>Hon Deluxe Fabric Upholstered Stacking Chairs,...</td>\n",
       "      <td>Furniture</td>\n",
       "      <td>Chairs</td>\n",
       "    </tr>\n",
       "    <tr>\n",
       "      <th>2</th>\n",
       "      <td>OFF-LA-10000240</td>\n",
       "      <td>Self-Adhesive Address Labels for Typewriters b...</td>\n",
       "      <td>Office Supplies</td>\n",
       "      <td>Labels</td>\n",
       "    </tr>\n",
       "    <tr>\n",
       "      <th>3</th>\n",
       "      <td>FUR-TA-10000577</td>\n",
       "      <td>Bretford CR4500 Series Slim Rectangular Table</td>\n",
       "      <td>Furniture</td>\n",
       "      <td>Tables</td>\n",
       "    </tr>\n",
       "    <tr>\n",
       "      <th>4</th>\n",
       "      <td>OFF-ST-10000760</td>\n",
       "      <td>Eldon Fold 'N Roll Cart System</td>\n",
       "      <td>Office Supplies</td>\n",
       "      <td>Storage</td>\n",
       "    </tr>\n",
       "  </tbody>\n",
       "</table>\n",
       "</div>"
      ],
      "text/plain": [
       "        product_id                                       product_name  \\\n",
       "0  FUR-BO-10001798                  Bush Somerset Collection Bookcase   \n",
       "1  FUR-CH-10000454  Hon Deluxe Fabric Upholstered Stacking Chairs,...   \n",
       "2  OFF-LA-10000240  Self-Adhesive Address Labels for Typewriters b...   \n",
       "3  FUR-TA-10000577      Bretford CR4500 Series Slim Rectangular Table   \n",
       "4  OFF-ST-10000760                     Eldon Fold 'N Roll Cart System   \n",
       "\n",
       "          category sub_category  \n",
       "0        Furniture    Bookcases  \n",
       "1        Furniture       Chairs  \n",
       "2  Office Supplies       Labels  \n",
       "3        Furniture       Tables  \n",
       "4  Office Supplies      Storage  "
      ]
     },
     "execution_count": 22,
     "metadata": {},
     "output_type": "execute_result"
    }
   ],
   "source": [
    "products = data[['product_id', 'product_name', 'category', 'sub_category']].drop_duplicates()\n",
    "products.head()"
   ]
  },
  {
   "cell_type": "code",
   "execution_count": 23,
   "id": "c725ce41-1ff7-4e17-bf43-f8eb4ecb03ef",
   "metadata": {},
   "outputs": [
    {
     "name": "stdout",
     "output_type": "stream",
     "text": [
      "Inserted 1894 rows into dw.products\n"
     ]
    }
   ],
   "source": [
    "insert_into_table('dw.products', products, conn)"
   ]
  },
  {
   "cell_type": "markdown",
   "id": "40dfd9fc-f221-4089-8dff-9aae4d1c17e1",
   "metadata": {},
   "source": [
    "### Orders"
   ]
  },
  {
   "cell_type": "code",
   "execution_count": 24,
   "id": "8dfa52e1-88e3-4c63-8b36-7fd5d0e9f987",
   "metadata": {},
   "outputs": [
    {
     "data": {
      "text/html": [
       "<div>\n",
       "<style scoped>\n",
       "    .dataframe tbody tr th:only-of-type {\n",
       "        vertical-align: middle;\n",
       "    }\n",
       "\n",
       "    .dataframe tbody tr th {\n",
       "        vertical-align: top;\n",
       "    }\n",
       "\n",
       "    .dataframe thead th {\n",
       "        text-align: right;\n",
       "    }\n",
       "</style>\n",
       "<table border=\"1\" class=\"dataframe\">\n",
       "  <thead>\n",
       "    <tr style=\"text-align: right;\">\n",
       "      <th></th>\n",
       "      <th>order_id</th>\n",
       "      <th>order_date</th>\n",
       "    </tr>\n",
       "  </thead>\n",
       "  <tbody>\n",
       "    <tr>\n",
       "      <th>0</th>\n",
       "      <td>CA-2018-152156</td>\n",
       "      <td>2018-11-08</td>\n",
       "    </tr>\n",
       "    <tr>\n",
       "      <th>2</th>\n",
       "      <td>CA-2018-138688</td>\n",
       "      <td>2018-06-12</td>\n",
       "    </tr>\n",
       "    <tr>\n",
       "      <th>3</th>\n",
       "      <td>US-2017-108966</td>\n",
       "      <td>2017-10-11</td>\n",
       "    </tr>\n",
       "    <tr>\n",
       "      <th>5</th>\n",
       "      <td>CA-2016-115812</td>\n",
       "      <td>2016-06-09</td>\n",
       "    </tr>\n",
       "    <tr>\n",
       "      <th>12</th>\n",
       "      <td>CA-2019-114412</td>\n",
       "      <td>2019-04-15</td>\n",
       "    </tr>\n",
       "  </tbody>\n",
       "</table>\n",
       "</div>"
      ],
      "text/plain": [
       "          order_id order_date\n",
       "0   CA-2018-152156 2018-11-08\n",
       "2   CA-2018-138688 2018-06-12\n",
       "3   US-2017-108966 2017-10-11\n",
       "5   CA-2016-115812 2016-06-09\n",
       "12  CA-2019-114412 2019-04-15"
      ]
     },
     "execution_count": 24,
     "metadata": {},
     "output_type": "execute_result"
    }
   ],
   "source": [
    "orders = data[['order_id', 'order_date']].drop_duplicates()\n",
    "orders.head()"
   ]
  },
  {
   "cell_type": "code",
   "execution_count": 25,
   "id": "2f20c0c5-3f21-4d5a-a539-f01300e6b0cc",
   "metadata": {},
   "outputs": [],
   "source": [
    "date_df = select_from_table('dw.calendar', ['date_id', 'date'], conn)\n",
    "date_df['date'] = pd.to_datetime(date_df['date'])"
   ]
  },
  {
   "cell_type": "code",
   "execution_count": 26,
   "id": "cefd97a9-05a8-4798-9c82-90289356fc03",
   "metadata": {},
   "outputs": [],
   "source": [
    "orders = orders.merge(date_df, left_on='order_date', right_on='date', how='left')[['order_id', 'date_id']]"
   ]
  },
  {
   "cell_type": "code",
   "execution_count": 27,
   "id": "eca3edf1-4dac-4dda-834c-d0eaf25aebc1",
   "metadata": {},
   "outputs": [
    {
     "name": "stdout",
     "output_type": "stream",
     "text": [
      "Inserted 5009 rows into dw.orders\n"
     ]
    }
   ],
   "source": [
    "insert_into_table('dw.orders', orders[['order_id', 'date_id']], conn)"
   ]
  },
  {
   "cell_type": "markdown",
   "id": "02a5156a-90de-4e45-ac47-86158b49beda",
   "metadata": {},
   "source": [
    "### Order_facts"
   ]
  },
  {
   "cell_type": "code",
   "execution_count": 30,
   "id": "9a0c799b-0f50-4d97-9d3c-66c3593769e9",
   "metadata": {},
   "outputs": [
    {
     "data": {
      "text/html": [
       "<div>\n",
       "<style scoped>\n",
       "    .dataframe tbody tr th:only-of-type {\n",
       "        vertical-align: middle;\n",
       "    }\n",
       "\n",
       "    .dataframe tbody tr th {\n",
       "        vertical-align: top;\n",
       "    }\n",
       "\n",
       "    .dataframe thead th {\n",
       "        text-align: right;\n",
       "    }\n",
       "</style>\n",
       "<table border=\"1\" class=\"dataframe\">\n",
       "  <thead>\n",
       "    <tr style=\"text-align: right;\">\n",
       "      <th></th>\n",
       "      <th>row_id</th>\n",
       "      <th>order_id</th>\n",
       "      <th>product_id</th>\n",
       "      <th>product_name</th>\n",
       "      <th>customer_id</th>\n",
       "      <th>returned</th>\n",
       "    </tr>\n",
       "  </thead>\n",
       "  <tbody>\n",
       "    <tr>\n",
       "      <th>0</th>\n",
       "      <td>1</td>\n",
       "      <td>CA-2018-152156</td>\n",
       "      <td>FUR-BO-10001798</td>\n",
       "      <td>Bush Somerset Collection Bookcase</td>\n",
       "      <td>CG-12520</td>\n",
       "      <td>False</td>\n",
       "    </tr>\n",
       "    <tr>\n",
       "      <th>1</th>\n",
       "      <td>2</td>\n",
       "      <td>CA-2018-152156</td>\n",
       "      <td>FUR-CH-10000454</td>\n",
       "      <td>Hon Deluxe Fabric Upholstered Stacking Chairs,...</td>\n",
       "      <td>CG-12520</td>\n",
       "      <td>False</td>\n",
       "    </tr>\n",
       "    <tr>\n",
       "      <th>2</th>\n",
       "      <td>3</td>\n",
       "      <td>CA-2018-138688</td>\n",
       "      <td>OFF-LA-10000240</td>\n",
       "      <td>Self-Adhesive Address Labels for Typewriters b...</td>\n",
       "      <td>DV-13045</td>\n",
       "      <td>False</td>\n",
       "    </tr>\n",
       "    <tr>\n",
       "      <th>3</th>\n",
       "      <td>4</td>\n",
       "      <td>US-2017-108966</td>\n",
       "      <td>FUR-TA-10000577</td>\n",
       "      <td>Bretford CR4500 Series Slim Rectangular Table</td>\n",
       "      <td>SO-20335</td>\n",
       "      <td>False</td>\n",
       "    </tr>\n",
       "    <tr>\n",
       "      <th>4</th>\n",
       "      <td>5</td>\n",
       "      <td>US-2017-108966</td>\n",
       "      <td>OFF-ST-10000760</td>\n",
       "      <td>Eldon Fold 'N Roll Cart System</td>\n",
       "      <td>SO-20335</td>\n",
       "      <td>False</td>\n",
       "    </tr>\n",
       "  </tbody>\n",
       "</table>\n",
       "</div>"
      ],
      "text/plain": [
       "   row_id        order_id       product_id  \\\n",
       "0       1  CA-2018-152156  FUR-BO-10001798   \n",
       "1       2  CA-2018-152156  FUR-CH-10000454   \n",
       "2       3  CA-2018-138688  OFF-LA-10000240   \n",
       "3       4  US-2017-108966  FUR-TA-10000577   \n",
       "4       5  US-2017-108966  OFF-ST-10000760   \n",
       "\n",
       "                                        product_name customer_id returned  \n",
       "0                  Bush Somerset Collection Bookcase    CG-12520    False  \n",
       "1  Hon Deluxe Fabric Upholstered Stacking Chairs,...    CG-12520    False  \n",
       "2  Self-Adhesive Address Labels for Typewriters b...    DV-13045    False  \n",
       "3      Bretford CR4500 Series Slim Rectangular Table    SO-20335    False  \n",
       "4                     Eldon Fold 'N Roll Cart System    SO-20335    False  "
      ]
     },
     "execution_count": 30,
     "metadata": {},
     "output_type": "execute_result"
    }
   ],
   "source": [
    "ord_facts = data[['row_id', 'order_id', 'product_id', 'product_name', 'customer_id', 'returned']]\n",
    "ord_facts.loc[:, 'returned'] = ord_facts['returned'].replace({'Yes': True, 'No': False}).astype(bool)\n",
    "ord_facts.head()"
   ]
  },
  {
   "cell_type": "code",
   "execution_count": 31,
   "id": "dce2bdc5-a7f9-48ab-bd54-240743340e0f",
   "metadata": {},
   "outputs": [
    {
     "data": {
      "text/html": [
       "<div>\n",
       "<style scoped>\n",
       "    .dataframe tbody tr th:only-of-type {\n",
       "        vertical-align: middle;\n",
       "    }\n",
       "\n",
       "    .dataframe tbody tr th {\n",
       "        vertical-align: top;\n",
       "    }\n",
       "\n",
       "    .dataframe thead th {\n",
       "        text-align: right;\n",
       "    }\n",
       "</style>\n",
       "<table border=\"1\" class=\"dataframe\">\n",
       "  <thead>\n",
       "    <tr style=\"text-align: right;\">\n",
       "      <th></th>\n",
       "      <th>row_id</th>\n",
       "      <th>order_id</th>\n",
       "      <th>product_id</th>\n",
       "      <th>product_name</th>\n",
       "      <th>customer_id</th>\n",
       "      <th>returned</th>\n",
       "      <th>product_uid</th>\n",
       "      <th>customer_uid</th>\n",
       "      <th>order_uid</th>\n",
       "      <th>date_id</th>\n",
       "    </tr>\n",
       "  </thead>\n",
       "  <tbody>\n",
       "    <tr>\n",
       "      <th>0</th>\n",
       "      <td>1</td>\n",
       "      <td>CA-2018-152156</td>\n",
       "      <td>FUR-BO-10001798</td>\n",
       "      <td>Bush Somerset Collection Bookcase</td>\n",
       "      <td>CG-12520</td>\n",
       "      <td>False</td>\n",
       "      <td>100000</td>\n",
       "      <td>10000</td>\n",
       "      <td>1000000</td>\n",
       "      <td>3234</td>\n",
       "    </tr>\n",
       "    <tr>\n",
       "      <th>1</th>\n",
       "      <td>2</td>\n",
       "      <td>CA-2018-152156</td>\n",
       "      <td>FUR-CH-10000454</td>\n",
       "      <td>Hon Deluxe Fabric Upholstered Stacking Chairs,...</td>\n",
       "      <td>CG-12520</td>\n",
       "      <td>False</td>\n",
       "      <td>100001</td>\n",
       "      <td>10000</td>\n",
       "      <td>1000000</td>\n",
       "      <td>3234</td>\n",
       "    </tr>\n",
       "    <tr>\n",
       "      <th>2</th>\n",
       "      <td>3</td>\n",
       "      <td>CA-2018-138688</td>\n",
       "      <td>OFF-LA-10000240</td>\n",
       "      <td>Self-Adhesive Address Labels for Typewriters b...</td>\n",
       "      <td>DV-13045</td>\n",
       "      <td>False</td>\n",
       "      <td>100002</td>\n",
       "      <td>10001</td>\n",
       "      <td>1000001</td>\n",
       "      <td>3085</td>\n",
       "    </tr>\n",
       "    <tr>\n",
       "      <th>3</th>\n",
       "      <td>4</td>\n",
       "      <td>US-2017-108966</td>\n",
       "      <td>FUR-TA-10000577</td>\n",
       "      <td>Bretford CR4500 Series Slim Rectangular Table</td>\n",
       "      <td>SO-20335</td>\n",
       "      <td>False</td>\n",
       "      <td>100003</td>\n",
       "      <td>10002</td>\n",
       "      <td>1000002</td>\n",
       "      <td>2841</td>\n",
       "    </tr>\n",
       "    <tr>\n",
       "      <th>4</th>\n",
       "      <td>5</td>\n",
       "      <td>US-2017-108966</td>\n",
       "      <td>OFF-ST-10000760</td>\n",
       "      <td>Eldon Fold 'N Roll Cart System</td>\n",
       "      <td>SO-20335</td>\n",
       "      <td>False</td>\n",
       "      <td>100004</td>\n",
       "      <td>10002</td>\n",
       "      <td>1000002</td>\n",
       "      <td>2841</td>\n",
       "    </tr>\n",
       "  </tbody>\n",
       "</table>\n",
       "</div>"
      ],
      "text/plain": [
       "   row_id        order_id       product_id  \\\n",
       "0       1  CA-2018-152156  FUR-BO-10001798   \n",
       "1       2  CA-2018-152156  FUR-CH-10000454   \n",
       "2       3  CA-2018-138688  OFF-LA-10000240   \n",
       "3       4  US-2017-108966  FUR-TA-10000577   \n",
       "4       5  US-2017-108966  OFF-ST-10000760   \n",
       "\n",
       "                                        product_name customer_id returned  \\\n",
       "0                  Bush Somerset Collection Bookcase    CG-12520    False   \n",
       "1  Hon Deluxe Fabric Upholstered Stacking Chairs,...    CG-12520    False   \n",
       "2  Self-Adhesive Address Labels for Typewriters b...    DV-13045    False   \n",
       "3      Bretford CR4500 Series Slim Rectangular Table    SO-20335    False   \n",
       "4                     Eldon Fold 'N Roll Cart System    SO-20335    False   \n",
       "\n",
       "   product_uid  customer_uid  order_uid  date_id  \n",
       "0       100000         10000    1000000     3234  \n",
       "1       100001         10000    1000000     3234  \n",
       "2       100002         10001    1000001     3085  \n",
       "3       100003         10002    1000002     2841  \n",
       "4       100004         10002    1000002     2841  "
      ]
     },
     "execution_count": 31,
     "metadata": {},
     "output_type": "execute_result"
    }
   ],
   "source": [
    "prod_df = select_from_table('dw.products', ['product_uid', 'product_id', 'product_name'], conn)\n",
    "ord_facts = ord_facts.merge(prod_df, on=['product_id', 'product_name'], how='left')\n",
    "\n",
    "cust_df = select_from_table('dw.customers', ['customer_uid', 'customer_id'], conn)\n",
    "ord_facts = ord_facts.merge(cust_df, on='customer_id', how='left')\n",
    "\n",
    "ord_df = select_from_table('dw.orders', ['order_uid', 'order_id', 'date_id'], conn)\n",
    "ord_facts = ord_facts.merge(ord_df, on='order_id', how='left')\n",
    "\n",
    "ord_facts.head()"
   ]
  },
  {
   "cell_type": "code",
   "execution_count": 32,
   "id": "f0d8929d-4a99-477d-9956-7a05463b755e",
   "metadata": {},
   "outputs": [],
   "source": [
    "ord_facts = ord_facts[['row_id', 'order_uid', 'product_uid', 'customer_uid', 'returned']]"
   ]
  },
  {
   "cell_type": "code",
   "execution_count": 33,
   "id": "c8001371-911f-41cb-b375-9f94e70a1f2c",
   "metadata": {},
   "outputs": [
    {
     "name": "stdout",
     "output_type": "stream",
     "text": [
      "Inserted 9994 rows into dw.order_facts\n"
     ]
    }
   ],
   "source": [
    "insert_into_table('dw.order_facts', ord_facts, conn)"
   ]
  },
  {
   "cell_type": "markdown",
   "id": "44d934fe-b4ec-439e-8b22-83cfabe65bac",
   "metadata": {},
   "source": [
    "### Shipping"
   ]
  },
  {
   "cell_type": "code",
   "execution_count": 34,
   "id": "f9c9831e-b4b8-4d3b-abfa-e5efc79374a2",
   "metadata": {},
   "outputs": [
    {
     "data": {
      "text/html": [
       "<div>\n",
       "<style scoped>\n",
       "    .dataframe tbody tr th:only-of-type {\n",
       "        vertical-align: middle;\n",
       "    }\n",
       "\n",
       "    .dataframe tbody tr th {\n",
       "        vertical-align: top;\n",
       "    }\n",
       "\n",
       "    .dataframe thead th {\n",
       "        text-align: right;\n",
       "    }\n",
       "</style>\n",
       "<table border=\"1\" class=\"dataframe\">\n",
       "  <thead>\n",
       "    <tr style=\"text-align: right;\">\n",
       "      <th></th>\n",
       "      <th>row_id</th>\n",
       "      <th>order_id</th>\n",
       "      <th>order_date</th>\n",
       "      <th>ship_date</th>\n",
       "      <th>ship_mode</th>\n",
       "      <th>state</th>\n",
       "      <th>city</th>\n",
       "      <th>postal_code</th>\n",
       "    </tr>\n",
       "  </thead>\n",
       "  <tbody>\n",
       "    <tr>\n",
       "      <th>0</th>\n",
       "      <td>1</td>\n",
       "      <td>CA-2018-152156</td>\n",
       "      <td>2018-11-08</td>\n",
       "      <td>2018-11-11</td>\n",
       "      <td>Second Class</td>\n",
       "      <td>Kentucky</td>\n",
       "      <td>Henderson</td>\n",
       "      <td>42420</td>\n",
       "    </tr>\n",
       "    <tr>\n",
       "      <th>1</th>\n",
       "      <td>2</td>\n",
       "      <td>CA-2018-152156</td>\n",
       "      <td>2018-11-08</td>\n",
       "      <td>2018-11-11</td>\n",
       "      <td>Second Class</td>\n",
       "      <td>Kentucky</td>\n",
       "      <td>Henderson</td>\n",
       "      <td>42420</td>\n",
       "    </tr>\n",
       "    <tr>\n",
       "      <th>2</th>\n",
       "      <td>3</td>\n",
       "      <td>CA-2018-138688</td>\n",
       "      <td>2018-06-12</td>\n",
       "      <td>2018-06-16</td>\n",
       "      <td>Second Class</td>\n",
       "      <td>California</td>\n",
       "      <td>Los Angeles</td>\n",
       "      <td>90036</td>\n",
       "    </tr>\n",
       "    <tr>\n",
       "      <th>3</th>\n",
       "      <td>4</td>\n",
       "      <td>US-2017-108966</td>\n",
       "      <td>2017-10-11</td>\n",
       "      <td>2017-10-18</td>\n",
       "      <td>Standard Class</td>\n",
       "      <td>Florida</td>\n",
       "      <td>Fort Lauderdale</td>\n",
       "      <td>33311</td>\n",
       "    </tr>\n",
       "    <tr>\n",
       "      <th>4</th>\n",
       "      <td>5</td>\n",
       "      <td>US-2017-108966</td>\n",
       "      <td>2017-10-11</td>\n",
       "      <td>2017-10-18</td>\n",
       "      <td>Standard Class</td>\n",
       "      <td>Florida</td>\n",
       "      <td>Fort Lauderdale</td>\n",
       "      <td>33311</td>\n",
       "    </tr>\n",
       "  </tbody>\n",
       "</table>\n",
       "</div>"
      ],
      "text/plain": [
       "   row_id        order_id order_date  ship_date       ship_mode       state  \\\n",
       "0       1  CA-2018-152156 2018-11-08 2018-11-11    Second Class    Kentucky   \n",
       "1       2  CA-2018-152156 2018-11-08 2018-11-11    Second Class    Kentucky   \n",
       "2       3  CA-2018-138688 2018-06-12 2018-06-16    Second Class  California   \n",
       "3       4  US-2017-108966 2017-10-11 2017-10-18  Standard Class     Florida   \n",
       "4       5  US-2017-108966 2017-10-11 2017-10-18  Standard Class     Florida   \n",
       "\n",
       "              city postal_code  \n",
       "0        Henderson       42420  \n",
       "1        Henderson       42420  \n",
       "2      Los Angeles       90036  \n",
       "3  Fort Lauderdale       33311  \n",
       "4  Fort Lauderdale       33311  "
      ]
     },
     "execution_count": 34,
     "metadata": {},
     "output_type": "execute_result"
    }
   ],
   "source": [
    "shipping = data[['row_id', 'ship_date', 'ship_mode', 'state', 'city', 'postal_code']]\n",
    "shipping.head()"
   ]
  },
  {
   "cell_type": "code",
   "execution_count": 36,
   "id": "aef2218d-444c-4209-843e-d1a1bd0f8f87",
   "metadata": {},
   "outputs": [],
   "source": [
    "shipping = shipping.merge(date_df, left_on='ship_date', right_on='date', how='left')"
   ]
  },
  {
   "cell_type": "code",
   "execution_count": 37,
   "id": "a1c4e72a-94ba-4150-a3d2-18cffb356681",
   "metadata": {},
   "outputs": [
    {
     "data": {
      "text/html": [
       "<div>\n",
       "<style scoped>\n",
       "    .dataframe tbody tr th:only-of-type {\n",
       "        vertical-align: middle;\n",
       "    }\n",
       "\n",
       "    .dataframe tbody tr th {\n",
       "        vertical-align: top;\n",
       "    }\n",
       "\n",
       "    .dataframe thead th {\n",
       "        text-align: right;\n",
       "    }\n",
       "</style>\n",
       "<table border=\"1\" class=\"dataframe\">\n",
       "  <thead>\n",
       "    <tr style=\"text-align: right;\">\n",
       "      <th></th>\n",
       "      <th>row_id</th>\n",
       "      <th>order_uid</th>\n",
       "      <th>date_id</th>\n",
       "      <th>ship_mode</th>\n",
       "      <th>geo_id</th>\n",
       "    </tr>\n",
       "  </thead>\n",
       "  <tbody>\n",
       "    <tr>\n",
       "      <th>0</th>\n",
       "      <td>1</td>\n",
       "      <td>1000000</td>\n",
       "      <td>3237</td>\n",
       "      <td>Second Class</td>\n",
       "      <td>1000</td>\n",
       "    </tr>\n",
       "    <tr>\n",
       "      <th>1</th>\n",
       "      <td>2</td>\n",
       "      <td>1000000</td>\n",
       "      <td>3237</td>\n",
       "      <td>Second Class</td>\n",
       "      <td>1000</td>\n",
       "    </tr>\n",
       "    <tr>\n",
       "      <th>2</th>\n",
       "      <td>3</td>\n",
       "      <td>1000001</td>\n",
       "      <td>3089</td>\n",
       "      <td>Second Class</td>\n",
       "      <td>1136</td>\n",
       "    </tr>\n",
       "    <tr>\n",
       "      <th>3</th>\n",
       "      <td>4</td>\n",
       "      <td>1000002</td>\n",
       "      <td>2848</td>\n",
       "      <td>Standard Class</td>\n",
       "      <td>1001</td>\n",
       "    </tr>\n",
       "    <tr>\n",
       "      <th>4</th>\n",
       "      <td>5</td>\n",
       "      <td>1000002</td>\n",
       "      <td>2848</td>\n",
       "      <td>Standard Class</td>\n",
       "      <td>1001</td>\n",
       "    </tr>\n",
       "  </tbody>\n",
       "</table>\n",
       "</div>"
      ],
      "text/plain": [
       "   row_id  order_uid  date_id       ship_mode  geo_id\n",
       "0       1    1000000     3237    Second Class    1000\n",
       "1       2    1000000     3237    Second Class    1000\n",
       "2       3    1000001     3089    Second Class    1136\n",
       "3       4    1000002     2848  Standard Class    1001\n",
       "4       5    1000002     2848  Standard Class    1001"
      ]
     },
     "execution_count": 37,
     "metadata": {},
     "output_type": "execute_result"
    }
   ],
   "source": [
    "geo_df = select_from_table('dw.geography', ['geo_id', 'state', 'city', 'postal_code'], conn)\n",
    "shipping = shipping.merge(geo_df, on=['state', 'city', 'postal_code'], how='left')[['row_id', 'date_id', 'ship_mode', 'geo_id']]\n",
    "shipping.head()"
   ]
  },
  {
   "cell_type": "code",
   "execution_count": 38,
   "id": "d81acd30-92da-4619-8d9a-55393dae4774",
   "metadata": {},
   "outputs": [
    {
     "name": "stdout",
     "output_type": "stream",
     "text": [
      "Inserted 9994 rows into dw.shipping\n"
     ]
    }
   ],
   "source": [
    "insert_into_table('dw.shipping', shipping, conn)"
   ]
  },
  {
   "cell_type": "code",
   "execution_count": null,
   "id": "8dbc2885-80bd-44a3-ae54-474b6f9bb067",
   "metadata": {},
   "outputs": [],
   "source": []
  },
  {
   "cell_type": "code",
   "execution_count": 39,
   "id": "9ec53a93-9d23-4f2b-b872-5073f34fe5b2",
   "metadata": {},
   "outputs": [
    {
     "name": "stdout",
     "output_type": "stream",
     "text": [
      "<class 'pandas.core.frame.DataFrame'>\n",
      "RangeIndex: 9994 entries, 0 to 9993\n",
      "Data columns (total 5 columns):\n",
      " #   Column        Non-Null Count  Dtype \n",
      "---  ------        --------------  ----- \n",
      " 0   row_id        9994 non-null   int64 \n",
      " 1   order_uid     9994 non-null   int64 \n",
      " 2   product_uid   9994 non-null   int64 \n",
      " 3   customer_uid  9994 non-null   int64 \n",
      " 4   returned      9994 non-null   object\n",
      "dtypes: int64(4), object(1)\n",
      "memory usage: 390.5+ KB\n"
     ]
    }
   ],
   "source": [
    "ord_facts.info()"
   ]
  },
  {
   "cell_type": "code",
   "execution_count": null,
   "id": "7ed8bd4b-e120-42ea-9ca6-8707932d7da6",
   "metadata": {},
   "outputs": [],
   "source": []
  },
  {
   "cell_type": "code",
   "execution_count": null,
   "id": "30e6f08f-0d10-4835-aa89-f0008d67f5d5",
   "metadata": {},
   "outputs": [],
   "source": []
  },
  {
   "cell_type": "markdown",
   "id": "5eaf6e2c-6f83-412d-9af5-aac948709703",
   "metadata": {},
   "source": [
    "### Metrics"
   ]
  },
  {
   "cell_type": "code",
   "execution_count": 40,
   "id": "33789596-faca-4f38-88fb-5980254535ad",
   "metadata": {},
   "outputs": [
    {
     "name": "stdout",
     "output_type": "stream",
     "text": [
      "Rows count:  9994\n"
     ]
    },
    {
     "data": {
      "text/html": [
       "<div>\n",
       "<style scoped>\n",
       "    .dataframe tbody tr th:only-of-type {\n",
       "        vertical-align: middle;\n",
       "    }\n",
       "\n",
       "    .dataframe tbody tr th {\n",
       "        vertical-align: top;\n",
       "    }\n",
       "\n",
       "    .dataframe thead th {\n",
       "        text-align: right;\n",
       "    }\n",
       "</style>\n",
       "<table border=\"1\" class=\"dataframe\">\n",
       "  <thead>\n",
       "    <tr style=\"text-align: right;\">\n",
       "      <th></th>\n",
       "      <th>row_id</th>\n",
       "      <th>sales</th>\n",
       "      <th>quantity</th>\n",
       "      <th>discount</th>\n",
       "      <th>profit</th>\n",
       "    </tr>\n",
       "  </thead>\n",
       "  <tbody>\n",
       "    <tr>\n",
       "      <th>0</th>\n",
       "      <td>1</td>\n",
       "      <td>261.9600</td>\n",
       "      <td>2</td>\n",
       "      <td>0.00</td>\n",
       "      <td>41.9136</td>\n",
       "    </tr>\n",
       "    <tr>\n",
       "      <th>1</th>\n",
       "      <td>2</td>\n",
       "      <td>731.9400</td>\n",
       "      <td>3</td>\n",
       "      <td>0.00</td>\n",
       "      <td>219.5820</td>\n",
       "    </tr>\n",
       "    <tr>\n",
       "      <th>2</th>\n",
       "      <td>3</td>\n",
       "      <td>14.6200</td>\n",
       "      <td>2</td>\n",
       "      <td>0.00</td>\n",
       "      <td>6.8714</td>\n",
       "    </tr>\n",
       "    <tr>\n",
       "      <th>3</th>\n",
       "      <td>4</td>\n",
       "      <td>957.5775</td>\n",
       "      <td>5</td>\n",
       "      <td>0.45</td>\n",
       "      <td>-383.0310</td>\n",
       "    </tr>\n",
       "    <tr>\n",
       "      <th>4</th>\n",
       "      <td>5</td>\n",
       "      <td>22.3680</td>\n",
       "      <td>2</td>\n",
       "      <td>0.20</td>\n",
       "      <td>2.5164</td>\n",
       "    </tr>\n",
       "  </tbody>\n",
       "</table>\n",
       "</div>"
      ],
      "text/plain": [
       "   row_id     sales  quantity  discount    profit\n",
       "0       1  261.9600         2      0.00   41.9136\n",
       "1       2  731.9400         3      0.00  219.5820\n",
       "2       3   14.6200         2      0.00    6.8714\n",
       "3       4  957.5775         5      0.45 -383.0310\n",
       "4       5   22.3680         2      0.20    2.5164"
      ]
     },
     "execution_count": 40,
     "metadata": {},
     "output_type": "execute_result"
    }
   ],
   "source": [
    "metrics = data[['row_id', 'sales', 'quantity', 'discount', 'profit']]\n",
    "metrics.head()"
   ]
  },
  {
   "cell_type": "code",
   "execution_count": 41,
   "id": "6099a9d6-d98b-4741-b1ef-379bd7e1a8d0",
   "metadata": {},
   "outputs": [
    {
     "name": "stdout",
     "output_type": "stream",
     "text": [
      "Inserted 9994 rows into dw.metrics\n"
     ]
    }
   ],
   "source": [
    "insert_into_table('dw.metrics', metrics, conn)"
   ]
  },
  {
   "cell_type": "code",
   "execution_count": null,
   "id": "70e34184-3c29-44a7-8927-46b49f60c9fb",
   "metadata": {},
   "outputs": [],
   "source": []
  }
 ],
 "metadata": {
  "kernelspec": {
   "display_name": "Python 3 (ipykernel)",
   "language": "python",
   "name": "python3"
  },
  "language_info": {
   "codemirror_mode": {
    "name": "ipython",
    "version": 3
   },
   "file_extension": ".py",
   "mimetype": "text/x-python",
   "name": "python",
   "nbconvert_exporter": "python",
   "pygments_lexer": "ipython3",
   "version": "3.11.5"
  }
 },
 "nbformat": 4,
 "nbformat_minor": 5
}
